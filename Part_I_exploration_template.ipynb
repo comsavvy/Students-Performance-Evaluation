{
 "cells": [
  {
   "cell_type": "markdown",
   "metadata": {},
   "source": [
    "# Student Performance Evaluation Analysis\n",
    "## by Olusola Timothy Ogundepo"
   ]
  },
  {
   "cell_type": "markdown",
   "metadata": {},
   "source": [
    "## Introduction\n",
    "PISA is a survey of students skills and knowledge as they approach the end of compulsory education. It is not a conventional school test. Rather than examining how well students have learned the school curriculum, it looks at how well prepared they are for life beyond school.\n",
    "Around 510,000 students in 65 economies took part in the PISA 2012 assessment of reading, mathematics and science representing about 28 million 15-year-olds globally.\n"
   ]
  },
  {
   "cell_type": "markdown",
   "metadata": {},
   "source": [
    "## Preliminary Wrangling"
   ]
  },
  {
   "cell_type": "code",
   "execution_count": 1,
   "metadata": {},
   "outputs": [],
   "source": [
    "# import all packages and set plots to be embedded inline\n",
    "import numpy as np\n",
    "import pandas as pd\n",
    "import matplotlib.pyplot as plt\n",
    "import seaborn as sb\n",
    "\n",
    "plt.style.use('fivethirtyeight')\n",
    "%matplotlib inline"
   ]
  },
  {
   "cell_type": "code",
   "execution_count": 2,
   "metadata": {},
   "outputs": [],
   "source": [
    "# Dict of all the needed columns\n",
    "colnames = {\n",
    "    \"STIDSTD\": \"stud_id\",\n",
    "    \"NC\": \"country\",\n",
    "    \"ST04Q01\": \"gender\",\n",
    "    \"ST05Q01\": \"pri_sch\",\n",
    "    \"ST06Q01\": \"age_at_pri_sch\",\n",
    "    \"ST01Q01\": \"intl_grade\",\n",
    "    \"ST08Q01\": \"late_for_school\",\n",
    "    \"ST09Q01\": \"skip_day\",\n",
    "    \"ST115Q01\": \"skip_class\",\n",
    "    \"ST26Q02\": \"possess_room\",\n",
    "    \"ST26Q03\": \"posses_study_place\",\n",
    "    \"ST26Q04\": \"possess_computer\",\n",
    "    \"ST26Q06\": \"possess_internet\",\n",
    "    \"ST26Q10\": \"possess_textbook\",\n",
    "    \"ST29Q06\": \"math_interest\",\n",
    "    \"ST42Q01\": \"math_anxiety\",\n",
    "    \"MATBEH\": \"math_behaviour\",\n",
    "    \"PV1MATH\": \"math_score\",\n",
    "    \"PV1READ\": \"read_score\",\n",
    "    \"PV1SCIE\": \"science_score\",\n",
    "    \"ST44Q03\": \"failure_attr\",\n",
    "    \"ST13Q01\": \"mother_sch_lvl\",\n",
    "    \"ST17Q01\": \"father_sch_lvl\",\n",
    "    \"ST15Q01\": \"mother_job_status\",\n",
    "    \"ST19Q01\": \"father_job_status\",\n",
    "    \"TCHBEHFA\": \"teacher_behaviour\",\n",
    "    \"TEACHSUP\": \"teacher_support\",\n",
    "    \"BFMJ2\": \"father_earning_pct\",\n",
    "    \"BMMJ1\": \"mother_earning_pct\"\n",
    "}"
   ]
  },
  {
   "cell_type": "code",
   "execution_count": 3,
   "metadata": {},
   "outputs": [],
   "source": [
    "pisa_df = pd.read_csv('pisa2012/pisa2012.csv', encoding='ANSI', nrows=2e5, usecols=colnames.keys(), low_memory=False)"
   ]
  },
  {
   "cell_type": "code",
   "execution_count": 4,
   "metadata": {},
   "outputs": [
    {
     "name": "stdout",
     "output_type": "stream",
     "text": [
      "<class 'pandas.core.frame.DataFrame'>\n",
      "RangeIndex: 200000 entries, 0 to 199999\n",
      "Data columns (total 29 columns):\n",
      " #   Column    Non-Null Count   Dtype  \n",
      "---  ------    --------------   -----  \n",
      " 0   NC        200000 non-null  object \n",
      " 1   STIDSTD   200000 non-null  int64  \n",
      " 2   ST01Q01   200000 non-null  int64  \n",
      " 3   ST04Q01   200000 non-null  object \n",
      " 4   ST05Q01   194537 non-null  object \n",
      " 5   ST06Q01   184727 non-null  float64\n",
      " 6   ST08Q01   196367 non-null  object \n",
      " 7   ST09Q01   196385 non-null  object \n",
      " 8   ST115Q01  196481 non-null  float64\n",
      " 9   ST13Q01   186541 non-null  object \n",
      " 10  ST15Q01   191405 non-null  object \n",
      " 11  ST17Q01   179712 non-null  object \n",
      " 12  ST19Q01   184470 non-null  object \n",
      " 13  ST26Q02   194627 non-null  object \n",
      " 14  ST26Q03   193172 non-null  object \n",
      " 15  ST26Q04   194277 non-null  object \n",
      " 16  ST26Q06   194110 non-null  object \n",
      " 17  ST26Q10   192970 non-null  object \n",
      " 18  ST29Q06   128594 non-null  object \n",
      " 19  ST42Q01   127967 non-null  object \n",
      " 20  ST44Q03   127963 non-null  object \n",
      " 21  BFMJ2     169195 non-null  float64\n",
      " 22  BMMJ1     157717 non-null  float64\n",
      " 23  MATBEH    128231 non-null  float64\n",
      " 24  TCHBEHFA  128395 non-null  float64\n",
      " 25  TEACHSUP  129264 non-null  float64\n",
      " 26  PV1MATH   200000 non-null  float64\n",
      " 27  PV1READ   200000 non-null  float64\n",
      " 28  PV1SCIE   200000 non-null  float64\n",
      "dtypes: float64(10), int64(2), object(17)\n",
      "memory usage: 44.3+ MB\n"
     ]
    }
   ],
   "source": [
    "pisa_df.info()"
   ]
  },
  {
   "cell_type": "code",
   "execution_count": 5,
   "metadata": {},
   "outputs": [
    {
     "data": {
      "text/html": [
       "<div>\n",
       "<style scoped>\n",
       "    .dataframe tbody tr th:only-of-type {\n",
       "        vertical-align: middle;\n",
       "    }\n",
       "\n",
       "    .dataframe tbody tr th {\n",
       "        vertical-align: top;\n",
       "    }\n",
       "\n",
       "    .dataframe thead th {\n",
       "        text-align: right;\n",
       "    }\n",
       "</style>\n",
       "<table border=\"1\" class=\"dataframe\">\n",
       "  <thead>\n",
       "    <tr style=\"text-align: right;\">\n",
       "      <th></th>\n",
       "      <th>NC</th>\n",
       "      <th>STIDSTD</th>\n",
       "      <th>ST01Q01</th>\n",
       "      <th>ST04Q01</th>\n",
       "      <th>ST05Q01</th>\n",
       "      <th>ST06Q01</th>\n",
       "      <th>ST08Q01</th>\n",
       "      <th>ST09Q01</th>\n",
       "      <th>ST115Q01</th>\n",
       "      <th>ST13Q01</th>\n",
       "      <th>...</th>\n",
       "      <th>ST42Q01</th>\n",
       "      <th>ST44Q03</th>\n",
       "      <th>BFMJ2</th>\n",
       "      <th>BMMJ1</th>\n",
       "      <th>MATBEH</th>\n",
       "      <th>TCHBEHFA</th>\n",
       "      <th>TEACHSUP</th>\n",
       "      <th>PV1MATH</th>\n",
       "      <th>PV1READ</th>\n",
       "      <th>PV1SCIE</th>\n",
       "    </tr>\n",
       "  </thead>\n",
       "  <tbody>\n",
       "    <tr>\n",
       "      <th>0</th>\n",
       "      <td>Albania</td>\n",
       "      <td>1</td>\n",
       "      <td>10</td>\n",
       "      <td>Female</td>\n",
       "      <td>No</td>\n",
       "      <td>6.0</td>\n",
       "      <td>None</td>\n",
       "      <td>None</td>\n",
       "      <td>1.0</td>\n",
       "      <td>&lt;ISCED level 3A&gt;</td>\n",
       "      <td>...</td>\n",
       "      <td>Agree</td>\n",
       "      <td>Slightly likely</td>\n",
       "      <td>76.49</td>\n",
       "      <td>79.74</td>\n",
       "      <td>0.6426</td>\n",
       "      <td>1.3625</td>\n",
       "      <td>1.68</td>\n",
       "      <td>406.8469</td>\n",
       "      <td>249.5762</td>\n",
       "      <td>341.7009</td>\n",
       "    </tr>\n",
       "    <tr>\n",
       "      <th>1</th>\n",
       "      <td>Albania</td>\n",
       "      <td>2</td>\n",
       "      <td>10</td>\n",
       "      <td>Female</td>\n",
       "      <td>Yes, for more than one year</td>\n",
       "      <td>7.0</td>\n",
       "      <td>One or two times</td>\n",
       "      <td>None</td>\n",
       "      <td>1.0</td>\n",
       "      <td>&lt;ISCED level 3A&gt;</td>\n",
       "      <td>...</td>\n",
       "      <td>NaN</td>\n",
       "      <td>Slightly likely</td>\n",
       "      <td>15.35</td>\n",
       "      <td>23.47</td>\n",
       "      <td>1.4702</td>\n",
       "      <td>NaN</td>\n",
       "      <td>NaN</td>\n",
       "      <td>486.1427</td>\n",
       "      <td>406.2936</td>\n",
       "      <td>548.9929</td>\n",
       "    </tr>\n",
       "    <tr>\n",
       "      <th>2</th>\n",
       "      <td>Albania</td>\n",
       "      <td>3</td>\n",
       "      <td>9</td>\n",
       "      <td>Female</td>\n",
       "      <td>Yes, for more than one year</td>\n",
       "      <td>6.0</td>\n",
       "      <td>None</td>\n",
       "      <td>None</td>\n",
       "      <td>1.0</td>\n",
       "      <td>&lt;ISCED level 3B, 3C&gt;</td>\n",
       "      <td>...</td>\n",
       "      <td>NaN</td>\n",
       "      <td>Likely</td>\n",
       "      <td>22.57</td>\n",
       "      <td>NaN</td>\n",
       "      <td>0.9618</td>\n",
       "      <td>NaN</td>\n",
       "      <td>NaN</td>\n",
       "      <td>533.2684</td>\n",
       "      <td>401.2100</td>\n",
       "      <td>499.6643</td>\n",
       "    </tr>\n",
       "    <tr>\n",
       "      <th>3</th>\n",
       "      <td>Albania</td>\n",
       "      <td>4</td>\n",
       "      <td>9</td>\n",
       "      <td>Female</td>\n",
       "      <td>Yes, for more than one year</td>\n",
       "      <td>6.0</td>\n",
       "      <td>None</td>\n",
       "      <td>None</td>\n",
       "      <td>1.0</td>\n",
       "      <td>&lt;ISCED level 3B, 3C&gt;</td>\n",
       "      <td>...</td>\n",
       "      <td>NaN</td>\n",
       "      <td>NaN</td>\n",
       "      <td>14.21</td>\n",
       "      <td>NaN</td>\n",
       "      <td>NaN</td>\n",
       "      <td>0.7644</td>\n",
       "      <td>1.68</td>\n",
       "      <td>412.2215</td>\n",
       "      <td>547.3630</td>\n",
       "      <td>438.6796</td>\n",
       "    </tr>\n",
       "    <tr>\n",
       "      <th>4</th>\n",
       "      <td>Albania</td>\n",
       "      <td>5</td>\n",
       "      <td>9</td>\n",
       "      <td>Female</td>\n",
       "      <td>Yes, for more than one year</td>\n",
       "      <td>6.0</td>\n",
       "      <td>One or two times</td>\n",
       "      <td>None</td>\n",
       "      <td>2.0</td>\n",
       "      <td>She did not complete &lt;ISCED level 1&gt;</td>\n",
       "      <td>...</td>\n",
       "      <td>Strongly agree</td>\n",
       "      <td>Likely</td>\n",
       "      <td>80.92</td>\n",
       "      <td>NaN</td>\n",
       "      <td>1.8169</td>\n",
       "      <td>0.7644</td>\n",
       "      <td>0.11</td>\n",
       "      <td>381.9209</td>\n",
       "      <td>311.7707</td>\n",
       "      <td>361.5628</td>\n",
       "    </tr>\n",
       "  </tbody>\n",
       "</table>\n",
       "<p>5 rows × 29 columns</p>\n",
       "</div>"
      ],
      "text/plain": [
       "        NC  STIDSTD  ST01Q01 ST04Q01                      ST05Q01  ST06Q01  \\\n",
       "0  Albania        1       10  Female                         No        6.0   \n",
       "1  Albania        2       10  Female  Yes, for more than one year      7.0   \n",
       "2  Albania        3        9  Female  Yes, for more than one year      6.0   \n",
       "3  Albania        4        9  Female  Yes, for more than one year      6.0   \n",
       "4  Albania        5        9  Female  Yes, for more than one year      6.0   \n",
       "\n",
       "              ST08Q01 ST09Q01  ST115Q01  \\\n",
       "0              None    None         1.0   \n",
       "1  One or two times    None         1.0   \n",
       "2              None    None         1.0   \n",
       "3              None    None         1.0   \n",
       "4  One or two times    None         2.0   \n",
       "\n",
       "                                 ST13Q01  ...         ST42Q01  \\\n",
       "0                      <ISCED level 3A>   ...           Agree   \n",
       "1                      <ISCED level 3A>   ...             NaN   \n",
       "2                  <ISCED level 3B, 3C>   ...             NaN   \n",
       "3                  <ISCED level 3B, 3C>   ...             NaN   \n",
       "4  She did not complete <ISCED level 1>   ...  Strongly agree   \n",
       "\n",
       "           ST44Q03  BFMJ2  BMMJ1  MATBEH TCHBEHFA TEACHSUP   PV1MATH  \\\n",
       "0  Slightly likely  76.49  79.74  0.6426   1.3625     1.68  406.8469   \n",
       "1  Slightly likely  15.35  23.47  1.4702      NaN      NaN  486.1427   \n",
       "2           Likely  22.57    NaN  0.9618      NaN      NaN  533.2684   \n",
       "3              NaN  14.21    NaN     NaN   0.7644     1.68  412.2215   \n",
       "4           Likely  80.92    NaN  1.8169   0.7644     0.11  381.9209   \n",
       "\n",
       "    PV1READ   PV1SCIE  \n",
       "0  249.5762  341.7009  \n",
       "1  406.2936  548.9929  \n",
       "2  401.2100  499.6643  \n",
       "3  547.3630  438.6796  \n",
       "4  311.7707  361.5628  \n",
       "\n",
       "[5 rows x 29 columns]"
      ]
     },
     "execution_count": 5,
     "metadata": {},
     "output_type": "execute_result"
    }
   ],
   "source": [
    "pisa_df.head()"
   ]
  },
  {
   "cell_type": "code",
   "execution_count": 6,
   "metadata": {},
   "outputs": [
    {
     "data": {
      "text/plain": [
       "(200000, 29)"
      ]
     },
     "execution_count": 6,
     "metadata": {},
     "output_type": "execute_result"
    }
   ],
   "source": [
    "pisa_df.shape"
   ]
  },
  {
   "cell_type": "markdown",
   "metadata": {},
   "source": [
    "### What is the structure of your dataset?\n",
    "\n",
    "> The pisa dataset contains over 400,000 responses from different students with more than 600 features. But for the purpose of this analysis and visualization, I will be using 200,000 sample of the dataset with 29 features. The features are of variety of format such as nominal, ordinal, discrete, continuous, text etc.,\n",
    "\n",
    "### What is/are the main feature(s) of interest in your dataset?\n",
    "\n",
    "* Student information and score in academic session.\n",
    "* Parent schooling information and career status.\n",
    "* Teacher contribution and support.\n",
    "\n",
    "### What features in the dataset do you think will help support your investigation into your feature(s) of interest?\n",
    "\n",
    "* Student information and score in academic session\n",
    "    * Student ID (STIDSTD)\n",
    "    * Country (NC)\n",
    "    * Attended Primary Education (ST05Q01)\n",
    "    * Age at ISCED 1 (ST06Q01)\n",
    "    * Gender (ST04Q01)\n",
    "    * International Grade (ST01Q01)\n",
    "    * Truancy - Late for School (ST08Q01)\n",
    "    * Truancy - Skip whole school day (ST09Q01)\n",
    "    * Truancy - Skip classes within school day (ST115Q01)\n",
    "    * Possessions - own room (ST26Q02)\n",
    "    * Possessions - study place (ST26Q03)\n",
    "    * Possessions - computer (ST26Q04)\n",
    "    * Possessions - Internet (ST26Q06)\n",
    "    * Possessions - textbooks (ST26Q10)\n",
    "    * Math Interest - Interested (ST29Q06)\n",
    "    * Math Anxiety - Worry That It Will Be Difficult (ST42Q01)\n",
    "    * Mathematics Behaviour (MATBEH)\n",
    "    * Mathematics Exam score (PV1MATH)\n",
    "    * Reading Exam score (PV1READ)\n",
    "    * Science Exam score (PV1SCIE)\n",
    "    * Attributions to Failure - Teacher Did Not Explain Well (ST44Q03)\n",
    "    \n",
    "* Parent schooling information and career status\n",
    "    * Mother\\<Highest Schooling> (ST13Q01)\n",
    "    * Father\\<Highest Schooling> (ST17Q01)\n",
    "    * Mother Current Job Status (ST15Q01)\n",
    "    * Father Current Job Status (ST19Q01)\n",
    "    * Father Occupation Status (BFMJ2)\n",
    "    * Mother Occupation Status (BMMJ1)\n",
    "\n",
    " * Teacher contribution and support\n",
    "    * Teacher Behaviour (TCHBEHFA)\n",
    "    * Teacher Support (TEACHSUP)\n",
    "   "
   ]
  },
  {
   "cell_type": "markdown",
   "metadata": {},
   "source": [
    "### Rename all columns to their appropriate names"
   ]
  },
  {
   "cell_type": "code",
   "execution_count": 7,
   "metadata": {},
   "outputs": [],
   "source": [
    "pisa_df.rename(columns=colnames, inplace=True)"
   ]
  },
  {
   "cell_type": "markdown",
   "metadata": {},
   "source": [
    "After renaming all columns of the dataset"
   ]
  },
  {
   "cell_type": "code",
   "execution_count": 8,
   "metadata": {},
   "outputs": [
    {
     "data": {
      "text/html": [
       "<div>\n",
       "<style scoped>\n",
       "    .dataframe tbody tr th:only-of-type {\n",
       "        vertical-align: middle;\n",
       "    }\n",
       "\n",
       "    .dataframe tbody tr th {\n",
       "        vertical-align: top;\n",
       "    }\n",
       "\n",
       "    .dataframe thead th {\n",
       "        text-align: right;\n",
       "    }\n",
       "</style>\n",
       "<table border=\"1\" class=\"dataframe\">\n",
       "  <thead>\n",
       "    <tr style=\"text-align: right;\">\n",
       "      <th></th>\n",
       "      <th>country</th>\n",
       "      <th>stud_id</th>\n",
       "      <th>intl_grade</th>\n",
       "      <th>gender</th>\n",
       "      <th>pri_sch</th>\n",
       "      <th>age_at_pri_sch</th>\n",
       "      <th>late_for_school</th>\n",
       "      <th>skip_day</th>\n",
       "      <th>skip_class</th>\n",
       "      <th>mother_sch_lvl</th>\n",
       "      <th>mother_job_status</th>\n",
       "      <th>father_sch_lvl</th>\n",
       "      <th>father_job_status</th>\n",
       "    </tr>\n",
       "  </thead>\n",
       "  <tbody>\n",
       "    <tr>\n",
       "      <th>0</th>\n",
       "      <td>Albania</td>\n",
       "      <td>1</td>\n",
       "      <td>10</td>\n",
       "      <td>Female</td>\n",
       "      <td>No</td>\n",
       "      <td>6.0</td>\n",
       "      <td>None</td>\n",
       "      <td>None</td>\n",
       "      <td>1.0</td>\n",
       "      <td>&lt;ISCED level 3A&gt;</td>\n",
       "      <td>Other (e.g. home duties, retired)</td>\n",
       "      <td>&lt;ISCED level 3A&gt;</td>\n",
       "      <td>Working part-time &lt;for pay&gt;</td>\n",
       "    </tr>\n",
       "    <tr>\n",
       "      <th>1</th>\n",
       "      <td>Albania</td>\n",
       "      <td>2</td>\n",
       "      <td>10</td>\n",
       "      <td>Female</td>\n",
       "      <td>Yes, for more than one year</td>\n",
       "      <td>7.0</td>\n",
       "      <td>One or two times</td>\n",
       "      <td>None</td>\n",
       "      <td>1.0</td>\n",
       "      <td>&lt;ISCED level 3A&gt;</td>\n",
       "      <td>Working full-time &lt;for pay&gt;</td>\n",
       "      <td>&lt;ISCED level 3A&gt;</td>\n",
       "      <td>Working full-time &lt;for pay&gt;</td>\n",
       "    </tr>\n",
       "    <tr>\n",
       "      <th>2</th>\n",
       "      <td>Albania</td>\n",
       "      <td>3</td>\n",
       "      <td>9</td>\n",
       "      <td>Female</td>\n",
       "      <td>Yes, for more than one year</td>\n",
       "      <td>6.0</td>\n",
       "      <td>None</td>\n",
       "      <td>None</td>\n",
       "      <td>1.0</td>\n",
       "      <td>&lt;ISCED level 3B, 3C&gt;</td>\n",
       "      <td>Working full-time &lt;for pay&gt;</td>\n",
       "      <td>&lt;ISCED level 3A&gt;</td>\n",
       "      <td>Working full-time &lt;for pay&gt;</td>\n",
       "    </tr>\n",
       "    <tr>\n",
       "      <th>3</th>\n",
       "      <td>Albania</td>\n",
       "      <td>4</td>\n",
       "      <td>9</td>\n",
       "      <td>Female</td>\n",
       "      <td>Yes, for more than one year</td>\n",
       "      <td>6.0</td>\n",
       "      <td>None</td>\n",
       "      <td>None</td>\n",
       "      <td>1.0</td>\n",
       "      <td>&lt;ISCED level 3B, 3C&gt;</td>\n",
       "      <td>Working full-time &lt;for pay&gt;</td>\n",
       "      <td>&lt;ISCED level 3A&gt;</td>\n",
       "      <td>Working full-time &lt;for pay&gt;</td>\n",
       "    </tr>\n",
       "    <tr>\n",
       "      <th>4</th>\n",
       "      <td>Albania</td>\n",
       "      <td>5</td>\n",
       "      <td>9</td>\n",
       "      <td>Female</td>\n",
       "      <td>Yes, for more than one year</td>\n",
       "      <td>6.0</td>\n",
       "      <td>One or two times</td>\n",
       "      <td>None</td>\n",
       "      <td>2.0</td>\n",
       "      <td>She did not complete &lt;ISCED level 1&gt;</td>\n",
       "      <td>Working part-time &lt;for pay&gt;</td>\n",
       "      <td>&lt;ISCED level 3B, 3C&gt;</td>\n",
       "      <td>Working part-time &lt;for pay&gt;</td>\n",
       "    </tr>\n",
       "  </tbody>\n",
       "</table>\n",
       "</div>"
      ],
      "text/plain": [
       "   country  stud_id  intl_grade  gender                      pri_sch  \\\n",
       "0  Albania        1          10  Female                         No     \n",
       "1  Albania        2          10  Female  Yes, for more than one year   \n",
       "2  Albania        3           9  Female  Yes, for more than one year   \n",
       "3  Albania        4           9  Female  Yes, for more than one year   \n",
       "4  Albania        5           9  Female  Yes, for more than one year   \n",
       "\n",
       "   age_at_pri_sch     late_for_school skip_day  skip_class  \\\n",
       "0             6.0              None     None           1.0   \n",
       "1             7.0  One or two times     None           1.0   \n",
       "2             6.0              None     None           1.0   \n",
       "3             6.0              None     None           1.0   \n",
       "4             6.0  One or two times     None           2.0   \n",
       "\n",
       "                          mother_sch_lvl                   mother_job_status  \\\n",
       "0                      <ISCED level 3A>   Other (e.g. home duties, retired)    \n",
       "1                      <ISCED level 3A>         Working full-time <for pay>    \n",
       "2                  <ISCED level 3B, 3C>         Working full-time <for pay>    \n",
       "3                  <ISCED level 3B, 3C>         Working full-time <for pay>    \n",
       "4  She did not complete <ISCED level 1>          Working part-time <for pay>   \n",
       "\n",
       "          father_sch_lvl             father_job_status  \n",
       "0      <ISCED level 3A>    Working part-time <for pay>  \n",
       "1      <ISCED level 3A>   Working full-time <for pay>   \n",
       "2      <ISCED level 3A>   Working full-time <for pay>   \n",
       "3      <ISCED level 3A>   Working full-time <for pay>   \n",
       "4  <ISCED level 3B, 3C>    Working part-time <for pay>  "
      ]
     },
     "execution_count": 8,
     "metadata": {},
     "output_type": "execute_result"
    }
   ],
   "source": [
    "pisa_df.loc[:4, :'father_job_status']"
   ]
  },
  {
   "cell_type": "code",
   "execution_count": 9,
   "metadata": {},
   "outputs": [
    {
     "data": {
      "text/html": [
       "<div>\n",
       "<style scoped>\n",
       "    .dataframe tbody tr th:only-of-type {\n",
       "        vertical-align: middle;\n",
       "    }\n",
       "\n",
       "    .dataframe tbody tr th {\n",
       "        vertical-align: top;\n",
       "    }\n",
       "\n",
       "    .dataframe thead th {\n",
       "        text-align: right;\n",
       "    }\n",
       "</style>\n",
       "<table border=\"1\" class=\"dataframe\">\n",
       "  <thead>\n",
       "    <tr style=\"text-align: right;\">\n",
       "      <th></th>\n",
       "      <th>possess_room</th>\n",
       "      <th>posses_study_place</th>\n",
       "      <th>possess_computer</th>\n",
       "      <th>possess_internet</th>\n",
       "      <th>possess_textbook</th>\n",
       "      <th>math_interest</th>\n",
       "      <th>math_anxiety</th>\n",
       "      <th>failure_attr</th>\n",
       "      <th>father_earning_pct</th>\n",
       "      <th>mother_earning_pct</th>\n",
       "      <th>math_behaviour</th>\n",
       "      <th>teacher_behaviour</th>\n",
       "      <th>teacher_support</th>\n",
       "      <th>math_score</th>\n",
       "      <th>read_score</th>\n",
       "      <th>science_score</th>\n",
       "    </tr>\n",
       "  </thead>\n",
       "  <tbody>\n",
       "    <tr>\n",
       "      <th>0</th>\n",
       "      <td>No</td>\n",
       "      <td>Yes</td>\n",
       "      <td>No</td>\n",
       "      <td>No</td>\n",
       "      <td>Yes</td>\n",
       "      <td>Agree</td>\n",
       "      <td>Agree</td>\n",
       "      <td>Slightly likely</td>\n",
       "      <td>76.49</td>\n",
       "      <td>79.74</td>\n",
       "      <td>0.6426</td>\n",
       "      <td>1.3625</td>\n",
       "      <td>1.68</td>\n",
       "      <td>406.8469</td>\n",
       "      <td>249.5762</td>\n",
       "      <td>341.7009</td>\n",
       "    </tr>\n",
       "    <tr>\n",
       "      <th>1</th>\n",
       "      <td>Yes</td>\n",
       "      <td>Yes</td>\n",
       "      <td>Yes</td>\n",
       "      <td>Yes</td>\n",
       "      <td>Yes</td>\n",
       "      <td>Agree</td>\n",
       "      <td>NaN</td>\n",
       "      <td>Slightly likely</td>\n",
       "      <td>15.35</td>\n",
       "      <td>23.47</td>\n",
       "      <td>1.4702</td>\n",
       "      <td>NaN</td>\n",
       "      <td>NaN</td>\n",
       "      <td>486.1427</td>\n",
       "      <td>406.2936</td>\n",
       "      <td>548.9929</td>\n",
       "    </tr>\n",
       "    <tr>\n",
       "      <th>2</th>\n",
       "      <td>Yes</td>\n",
       "      <td>Yes</td>\n",
       "      <td>Yes</td>\n",
       "      <td>Yes</td>\n",
       "      <td>Yes</td>\n",
       "      <td>Strongly agree</td>\n",
       "      <td>NaN</td>\n",
       "      <td>Likely</td>\n",
       "      <td>22.57</td>\n",
       "      <td>NaN</td>\n",
       "      <td>0.9618</td>\n",
       "      <td>NaN</td>\n",
       "      <td>NaN</td>\n",
       "      <td>533.2684</td>\n",
       "      <td>401.2100</td>\n",
       "      <td>499.6643</td>\n",
       "    </tr>\n",
       "    <tr>\n",
       "      <th>3</th>\n",
       "      <td>Yes</td>\n",
       "      <td>Yes</td>\n",
       "      <td>Yes</td>\n",
       "      <td>Yes</td>\n",
       "      <td>Yes</td>\n",
       "      <td>NaN</td>\n",
       "      <td>NaN</td>\n",
       "      <td>NaN</td>\n",
       "      <td>14.21</td>\n",
       "      <td>NaN</td>\n",
       "      <td>NaN</td>\n",
       "      <td>0.7644</td>\n",
       "      <td>1.68</td>\n",
       "      <td>412.2215</td>\n",
       "      <td>547.3630</td>\n",
       "      <td>438.6796</td>\n",
       "    </tr>\n",
       "    <tr>\n",
       "      <th>4</th>\n",
       "      <td>Yes</td>\n",
       "      <td>No</td>\n",
       "      <td>Yes</td>\n",
       "      <td>Yes</td>\n",
       "      <td>Yes</td>\n",
       "      <td>Strongly agree</td>\n",
       "      <td>Strongly agree</td>\n",
       "      <td>Likely</td>\n",
       "      <td>80.92</td>\n",
       "      <td>NaN</td>\n",
       "      <td>1.8169</td>\n",
       "      <td>0.7644</td>\n",
       "      <td>0.11</td>\n",
       "      <td>381.9209</td>\n",
       "      <td>311.7707</td>\n",
       "      <td>361.5628</td>\n",
       "    </tr>\n",
       "  </tbody>\n",
       "</table>\n",
       "</div>"
      ],
      "text/plain": [
       "  possess_room posses_study_place possess_computer possess_internet  \\\n",
       "0           No                Yes               No               No   \n",
       "1          Yes                Yes              Yes              Yes   \n",
       "2          Yes                Yes              Yes              Yes   \n",
       "3          Yes                Yes              Yes              Yes   \n",
       "4          Yes                 No              Yes              Yes   \n",
       "\n",
       "  possess_textbook   math_interest    math_anxiety     failure_attr  \\\n",
       "0              Yes           Agree           Agree  Slightly likely   \n",
       "1              Yes           Agree             NaN  Slightly likely   \n",
       "2              Yes  Strongly agree             NaN           Likely   \n",
       "3              Yes             NaN             NaN              NaN   \n",
       "4              Yes  Strongly agree  Strongly agree           Likely   \n",
       "\n",
       "   father_earning_pct  mother_earning_pct  math_behaviour  teacher_behaviour  \\\n",
       "0               76.49               79.74          0.6426             1.3625   \n",
       "1               15.35               23.47          1.4702                NaN   \n",
       "2               22.57                 NaN          0.9618                NaN   \n",
       "3               14.21                 NaN             NaN             0.7644   \n",
       "4               80.92                 NaN          1.8169             0.7644   \n",
       "\n",
       "   teacher_support  math_score  read_score  science_score  \n",
       "0             1.68    406.8469    249.5762       341.7009  \n",
       "1              NaN    486.1427    406.2936       548.9929  \n",
       "2              NaN    533.2684    401.2100       499.6643  \n",
       "3             1.68    412.2215    547.3630       438.6796  \n",
       "4             0.11    381.9209    311.7707       361.5628  "
      ]
     },
     "execution_count": 9,
     "metadata": {},
     "output_type": "execute_result"
    }
   ],
   "source": [
    "pisa_df.loc[:4, 'possess_room':]"
   ]
  },
  {
   "cell_type": "markdown",
   "metadata": {},
   "source": [
    "### Identify and Fix issues"
   ]
  },
  {
   "cell_type": "markdown",
   "metadata": {},
   "source": [
    "### Data type of all features"
   ]
  },
  {
   "cell_type": "code",
   "execution_count": 10,
   "metadata": {},
   "outputs": [
    {
     "name": "stdout",
     "output_type": "stream",
     "text": [
      "<class 'pandas.core.frame.DataFrame'>\n",
      "RangeIndex: 200000 entries, 0 to 199999\n",
      "Data columns (total 29 columns):\n",
      " #   Column              Non-Null Count   Dtype  \n",
      "---  ------              --------------   -----  \n",
      " 0   country             200000 non-null  object \n",
      " 1   stud_id             200000 non-null  int64  \n",
      " 2   intl_grade          200000 non-null  int64  \n",
      " 3   gender              200000 non-null  object \n",
      " 4   pri_sch             194537 non-null  object \n",
      " 5   age_at_pri_sch      184727 non-null  float64\n",
      " 6   late_for_school     196367 non-null  object \n",
      " 7   skip_day            196385 non-null  object \n",
      " 8   skip_class          196481 non-null  float64\n",
      " 9   mother_sch_lvl      186541 non-null  object \n",
      " 10  mother_job_status   191405 non-null  object \n",
      " 11  father_sch_lvl      179712 non-null  object \n",
      " 12  father_job_status   184470 non-null  object \n",
      " 13  possess_room        194627 non-null  object \n",
      " 14  posses_study_place  193172 non-null  object \n",
      " 15  possess_computer    194277 non-null  object \n",
      " 16  possess_internet    194110 non-null  object \n",
      " 17  possess_textbook    192970 non-null  object \n",
      " 18  math_interest       128594 non-null  object \n",
      " 19  math_anxiety        127967 non-null  object \n",
      " 20  failure_attr        127963 non-null  object \n",
      " 21  father_earning_pct  169195 non-null  float64\n",
      " 22  mother_earning_pct  157717 non-null  float64\n",
      " 23  math_behaviour      128231 non-null  float64\n",
      " 24  teacher_behaviour   128395 non-null  float64\n",
      " 25  teacher_support     129264 non-null  float64\n",
      " 26  math_score          200000 non-null  float64\n",
      " 27  read_score          200000 non-null  float64\n",
      " 28  science_score       200000 non-null  float64\n",
      "dtypes: float64(10), int64(2), object(17)\n",
      "memory usage: 44.3+ MB\n"
     ]
    }
   ],
   "source": [
    "pisa_df.info()"
   ]
  },
  {
   "cell_type": "markdown",
   "metadata": {},
   "source": [
    "Student id is integer instead of object"
   ]
  },
  {
   "cell_type": "code",
   "execution_count": 11,
   "metadata": {},
   "outputs": [],
   "source": [
    "# Fix student id type\n",
    "pisa_df['stud_id'] = pisa_df['stud_id'].astype('str')"
   ]
  },
  {
   "cell_type": "code",
   "execution_count": 12,
   "metadata": {},
   "outputs": [
    {
     "data": {
      "text/plain": [
       "dtype('O')"
      ]
     },
     "execution_count": 12,
     "metadata": {},
     "output_type": "execute_result"
    }
   ],
   "source": [
    "# Check student id type after fixed\n",
    "\n",
    "pisa_df['stud_id'].dtype"
   ]
  },
  {
   "cell_type": "markdown",
   "metadata": {},
   "source": [
    "### Checking the unique items of:"
   ]
  },
  {
   "cell_type": "markdown",
   "metadata": {},
   "source": [
    "**days skipped in a week**"
   ]
  },
  {
   "cell_type": "code",
   "execution_count": 13,
   "metadata": {},
   "outputs": [
    {
     "data": {
      "text/plain": [
       "array(['None  ', nan, 'One or two times  ', 'Three or four times  ',\n",
       "       'Five or more times  '], dtype=object)"
      ]
     },
     "execution_count": 13,
     "metadata": {},
     "output_type": "execute_result"
    }
   ],
   "source": [
    "pisa_df['skip_day'].unique()"
   ]
  },
  {
   "cell_type": "markdown",
   "metadata": {},
   "source": [
    "There exist some trailing spaces which needs to be fixed. And nan should be replaced with None for consistency."
   ]
  },
  {
   "cell_type": "code",
   "execution_count": 14,
   "metadata": {},
   "outputs": [],
   "source": [
    "pisa_df['skip_day'] = pisa_df['skip_day'].fillna('None')\n",
    "\n",
    "# Fixing the trailing spaces in skip_day col\n",
    "pisa_df['skip_day'] = pisa_df['skip_day'].str.strip()"
   ]
  },
  {
   "cell_type": "code",
   "execution_count": 15,
   "metadata": {},
   "outputs": [
    {
     "data": {
      "text/plain": [
       "array(['None', 'One or two times', 'Three or four times',\n",
       "       'Five or more times'], dtype=object)"
      ]
     },
     "execution_count": 15,
     "metadata": {},
     "output_type": "execute_result"
    }
   ],
   "source": [
    "# After fixed\n",
    "pisa_df['skip_day'].unique()"
   ]
  },
  {
   "cell_type": "markdown",
   "metadata": {},
   "source": [
    "**Number of classes skipped in a week**"
   ]
  },
  {
   "cell_type": "code",
   "execution_count": 16,
   "metadata": {},
   "outputs": [
    {
     "data": {
      "text/plain": [
       "array([ 1.,  2.,  3., nan,  4.])"
      ]
     },
     "execution_count": 16,
     "metadata": {},
     "output_type": "execute_result"
    }
   ],
   "source": [
    "pisa_df['skip_class'].unique()"
   ]
  },
  {
   "cell_type": "markdown",
   "metadata": {},
   "source": [
    "### Country"
   ]
  },
  {
   "cell_type": "code",
   "execution_count": 17,
   "metadata": {},
   "outputs": [
    {
     "data": {
      "text/plain": [
       "array(['Albania', 'United Arab Emirates ', 'Argentina', 'Australia',\n",
       "       'Austria', 'Belgium', 'Bulgaria ', 'Brazil ', 'Canada ',\n",
       "       'Switzerland', 'Chile', 'Colombia ', 'Costa Rica ',\n",
       "       'Czech Republic ', 'Germany', 'Denmark', 'Spain', 'Estonia',\n",
       "       'Finland', 'France ', 'United Kingdom (excl.Scotland) ',\n",
       "       'United Kingdom (Scotland)'], dtype=object)"
      ]
     },
     "execution_count": 17,
     "metadata": {},
     "output_type": "execute_result"
    }
   ],
   "source": [
    "pisa_df['country'].unique()"
   ]
  },
  {
   "cell_type": "markdown",
   "metadata": {},
   "source": [
    "Some countries have leading or trailing spaces"
   ]
  },
  {
   "cell_type": "code",
   "execution_count": 18,
   "metadata": {},
   "outputs": [],
   "source": [
    "# Fixing the leading and trailing space\n",
    "pisa_df['country'] = pisa_df['country'].str.strip()"
   ]
  },
  {
   "cell_type": "code",
   "execution_count": 19,
   "metadata": {},
   "outputs": [
    {
     "data": {
      "text/plain": [
       "array(['Albania', 'United Arab Emirates', 'Argentina', 'Australia',\n",
       "       'Austria', 'Belgium', 'Bulgaria', 'Brazil', 'Canada',\n",
       "       'Switzerland', 'Chile', 'Colombia', 'Costa Rica', 'Czech Republic',\n",
       "       'Germany', 'Denmark', 'Spain', 'Estonia', 'Finland', 'France',\n",
       "       'United Kingdom (excl.Scotland)', 'United Kingdom (Scotland)'],\n",
       "      dtype=object)"
      ]
     },
     "execution_count": 19,
     "metadata": {},
     "output_type": "execute_result"
    }
   ],
   "source": [
    "# After fixed\n",
    "pisa_df['country'].unique()"
   ]
  },
  {
   "cell_type": "markdown",
   "metadata": {},
   "source": [
    "### Checking for duplicates in the dataset"
   ]
  },
  {
   "cell_type": "code",
   "execution_count": 20,
   "metadata": {},
   "outputs": [
    {
     "data": {
      "text/plain": [
       "0"
      ]
     },
     "execution_count": 20,
     "metadata": {},
     "output_type": "execute_result"
    }
   ],
   "source": [
    "pisa_df.duplicated().sum()"
   ]
  },
  {
   "cell_type": "markdown",
   "metadata": {},
   "source": [
    "Data has no duplicates"
   ]
  },
  {
   "cell_type": "markdown",
   "metadata": {},
   "source": [
    "### Parent school level"
   ]
  },
  {
   "cell_type": "code",
   "execution_count": 21,
   "metadata": {},
   "outputs": [],
   "source": [
    "# Parent school level columns\n",
    "p_schlvl_cols = ['mother_sch_lvl', 'father_sch_lvl']\n",
    "\n",
    "parent_lvl = pisa_df[p_schlvl_cols]"
   ]
  },
  {
   "cell_type": "code",
   "execution_count": 22,
   "metadata": {},
   "outputs": [
    {
     "data": {
      "text/html": [
       "<div>\n",
       "<style scoped>\n",
       "    .dataframe tbody tr th:only-of-type {\n",
       "        vertical-align: middle;\n",
       "    }\n",
       "\n",
       "    .dataframe tbody tr th {\n",
       "        vertical-align: top;\n",
       "    }\n",
       "\n",
       "    .dataframe thead th {\n",
       "        text-align: right;\n",
       "    }\n",
       "</style>\n",
       "<table border=\"1\" class=\"dataframe\">\n",
       "  <thead>\n",
       "    <tr style=\"text-align: right;\">\n",
       "      <th></th>\n",
       "      <th>mother_sch_lvl</th>\n",
       "      <th>father_sch_lvl</th>\n",
       "    </tr>\n",
       "  </thead>\n",
       "  <tbody>\n",
       "    <tr>\n",
       "      <th>0</th>\n",
       "      <td>&lt;ISCED level 3A&gt;</td>\n",
       "      <td>&lt;ISCED level 3A&gt;</td>\n",
       "    </tr>\n",
       "    <tr>\n",
       "      <th>1</th>\n",
       "      <td>&lt;ISCED level 3A&gt;</td>\n",
       "      <td>&lt;ISCED level 3A&gt;</td>\n",
       "    </tr>\n",
       "    <tr>\n",
       "      <th>2</th>\n",
       "      <td>&lt;ISCED level 3B, 3C&gt;</td>\n",
       "      <td>&lt;ISCED level 3A&gt;</td>\n",
       "    </tr>\n",
       "    <tr>\n",
       "      <th>3</th>\n",
       "      <td>&lt;ISCED level 3B, 3C&gt;</td>\n",
       "      <td>&lt;ISCED level 3A&gt;</td>\n",
       "    </tr>\n",
       "    <tr>\n",
       "      <th>4</th>\n",
       "      <td>She did not complete &lt;ISCED level 1&gt;</td>\n",
       "      <td>&lt;ISCED level 3B, 3C&gt;</td>\n",
       "    </tr>\n",
       "  </tbody>\n",
       "</table>\n",
       "</div>"
      ],
      "text/plain": [
       "                          mother_sch_lvl         father_sch_lvl\n",
       "0                      <ISCED level 3A>       <ISCED level 3A> \n",
       "1                      <ISCED level 3A>       <ISCED level 3A> \n",
       "2                  <ISCED level 3B, 3C>       <ISCED level 3A> \n",
       "3                  <ISCED level 3B, 3C>       <ISCED level 3A> \n",
       "4  She did not complete <ISCED level 1>   <ISCED level 3B, 3C> "
      ]
     },
     "execution_count": 22,
     "metadata": {},
     "output_type": "execute_result"
    }
   ],
   "source": [
    "parent_lvl.head()"
   ]
  },
  {
   "cell_type": "code",
   "execution_count": 23,
   "metadata": {},
   "outputs": [
    {
     "name": "stdout",
     "output_type": "stream",
     "text": [
      "mother_sch_lvl:  ['<ISCED level 3A> ' '<ISCED level 3B, 3C> '\n",
      " 'She did not complete <ISCED level 1> ' '<ISCED level 2> '\n",
      " '<ISCED level 1> ' nan]\n",
      "\n",
      "father_sch_lvl:  ['<ISCED level 3A> ' '<ISCED level 3B, 3C> ' '<ISCED level 2> '\n",
      " 'He did not complete <ISCED level 1> ' nan '<ISCED level 1> ']\n",
      "\n"
     ]
    }
   ],
   "source": [
    "def check_unique_psch():\n",
    "    for col in p_schlvl_cols:\n",
    "        print(f'{col}: ', pisa_df[col].unique(), end=\"\\n\\n\")\n",
    "\n",
    "check_unique_psch()"
   ]
  },
  {
   "cell_type": "markdown",
   "metadata": {},
   "source": [
    "Parent school level columns have trailing spaces and most school level start and end with < and >. It will be appropriate if the trailing spaces are removed and structure the values correctly e.g., \n",
    "* '<ISCED level 3A> ' -> 'ISCED level 3A'\n",
    "* 'She did not complete <ISCED level 1> ' -> 'She did not complete <ISCED level 1>'\n"
   ]
  },
  {
   "cell_type": "code",
   "execution_count": 24,
   "metadata": {},
   "outputs": [],
   "source": [
    "def fix_parent_sch_lvl():\n",
    "    \"\"\"Fix all redundant characters in parent school level columns\"\"\"\n",
    "    for col in parent_lvl.columns:\n",
    "        # Fix trailing spaces\n",
    "        pisa_df.loc[:, col] = parent_lvl[col].str.strip()\n",
    "        # fixing redundant characters on school level\n",
    "        plvl = pisa_df[col].str.extract(r'^<(.*)>$|(.*)')\n",
    "        pisa_df[col] = plvl.apply(lambda cols: \n",
    "                                            cols[1] if cols[0] is np.nan\n",
    "                                                    else cols[0], axis=1)"
   ]
  },
  {
   "cell_type": "code",
   "execution_count": 25,
   "metadata": {},
   "outputs": [],
   "source": [
    "fix_parent_sch_lvl()"
   ]
  },
  {
   "cell_type": "code",
   "execution_count": 26,
   "metadata": {},
   "outputs": [
    {
     "name": "stdout",
     "output_type": "stream",
     "text": [
      "mother_sch_lvl:  ['ISCED level 3A' 'ISCED level 3B, 3C'\n",
      " 'She did not complete <ISCED level 1>' 'ISCED level 2' 'ISCED level 1'\n",
      " nan]\n",
      "\n",
      "father_sch_lvl:  ['ISCED level 3A' 'ISCED level 3B, 3C' 'ISCED level 2'\n",
      " 'He did not complete <ISCED level 1>' nan 'ISCED level 1']\n",
      "\n"
     ]
    }
   ],
   "source": [
    "# After fixing parent school level\n",
    "check_unique_psch()"
   ]
  },
  {
   "cell_type": "markdown",
   "metadata": {},
   "source": [
    "Function to order categorical columns"
   ]
  },
  {
   "cell_type": "code",
   "execution_count": 27,
   "metadata": {},
   "outputs": [],
   "source": [
    "def order_cat(columns: list, order: list =None):\n",
    "    \"\"\"Order all columns scale in the right order\"\"\"\n",
    "    if not order:\n",
    "        order = ['Strongly disagree', 'Disagree', 'Agree', 'Strongly agree']\n",
    "    for col in columns:\n",
    "        pisa_df[col] = pd.Categorical(pisa_df[col], categories=order, ordered=True)"
   ]
  },
  {
   "cell_type": "markdown",
   "metadata": {},
   "source": [
    "Parent school levels should be ordered"
   ]
  },
  {
   "cell_type": "code",
   "execution_count": 28,
   "metadata": {},
   "outputs": [],
   "source": [
    "sch_lvl = ['She did not complete <ISCED level 1>','He did not complete <ISCED level 1>']\n",
    "for col, lvl in zip(p_schlvl_cols, sch_lvl):\n",
    "    order_cat([col], order=[lvl,'ISCED level 1', 'ISCED level 2',\n",
    "                                    'ISCED level 3A', 'ISCED level 3B, 3C'])"
   ]
  },
  {
   "cell_type": "code",
   "execution_count": 29,
   "metadata": {},
   "outputs": [
    {
     "name": "stdout",
     "output_type": "stream",
     "text": [
      "mother_sch_lvl:  category\n",
      "\n",
      "father_sch_lvl:  category\n",
      "\n"
     ]
    }
   ],
   "source": [
    "# After correcting the order\n",
    "for i, col in enumerate(p_schlvl_cols):\n",
    "    print(f'{col}: ', pisa_df[p_schlvl_cols[i]].dtype, end=\"\\n\\n\")"
   ]
  },
  {
   "cell_type": "markdown",
   "metadata": {},
   "source": [
    "### Primary education"
   ]
  },
  {
   "cell_type": "code",
   "execution_count": 30,
   "metadata": {},
   "outputs": [
    {
     "data": {
      "text/plain": [
       "array(['No  ', 'Yes, for more than one year',\n",
       "       'Yes, for one year or less ', nan], dtype=object)"
      ]
     },
     "execution_count": 30,
     "metadata": {},
     "output_type": "execute_result"
    }
   ],
   "source": [
    "pisa_df['pri_sch'].unique()"
   ]
  },
  {
   "cell_type": "markdown",
   "metadata": {},
   "source": [
    "There exist some trailing spaces which needs to be fixed."
   ]
  },
  {
   "cell_type": "code",
   "execution_count": 31,
   "metadata": {},
   "outputs": [],
   "source": [
    "# Fixing trailing spaces\n",
    "pisa_df['pri_sch'] = pisa_df['pri_sch'].str.strip()"
   ]
  },
  {
   "cell_type": "code",
   "execution_count": 32,
   "metadata": {},
   "outputs": [
    {
     "data": {
      "text/plain": [
       "array(['No', 'Yes, for more than one year', 'Yes, for one year or less',\n",
       "       nan], dtype=object)"
      ]
     },
     "execution_count": 32,
     "metadata": {},
     "output_type": "execute_result"
    }
   ],
   "source": [
    "# Unique elements after fixed\n",
    "pisa_df['pri_sch'].unique()"
   ]
  },
  {
   "cell_type": "markdown",
   "metadata": {},
   "source": [
    "It will be great if student experience in primary are school ordinal category"
   ]
  },
  {
   "cell_type": "code",
   "execution_count": 33,
   "metadata": {},
   "outputs": [],
   "source": [
    "order_cat(['pri_sch'], \n",
    "            order=['No', 'Yes, for one year or less', 'Yes, for more than one year'])"
   ]
  },
  {
   "cell_type": "code",
   "execution_count": 34,
   "metadata": {},
   "outputs": [
    {
     "data": {
      "text/plain": [
       "CategoricalDtype(categories=['No', 'Yes, for one year or less',\n",
       "                  'Yes, for more than one year'],\n",
       ", ordered=True)"
      ]
     },
     "execution_count": 34,
     "metadata": {},
     "output_type": "execute_result"
    }
   ],
   "source": [
    "# After student experience in primary school has been ordered\n",
    "pisa_df['pri_sch'].dtype"
   ]
  },
  {
   "cell_type": "markdown",
   "metadata": {},
   "source": [
    "### Possessions"
   ]
  },
  {
   "cell_type": "code",
   "execution_count": 35,
   "metadata": {},
   "outputs": [
    {
     "name": "stdout",
     "output_type": "stream",
     "text": [
      "<class 'pandas.core.frame.DataFrame'>\n",
      "RangeIndex: 200000 entries, 0 to 199999\n",
      "Data columns (total 4 columns):\n",
      " #   Column            Non-Null Count   Dtype \n",
      "---  ------            --------------   ----- \n",
      " 0   possess_room      194627 non-null  object\n",
      " 1   possess_computer  194277 non-null  object\n",
      " 2   possess_internet  194110 non-null  object\n",
      " 3   possess_textbook  192970 non-null  object\n",
      "dtypes: object(4)\n",
      "memory usage: 6.1+ MB\n"
     ]
    }
   ],
   "source": [
    "possession = pisa_df.columns[pisa_df.columns.str.startswith('possess')]\n",
    "pisa_df[possession].info()"
   ]
  },
  {
   "cell_type": "code",
   "execution_count": 36,
   "metadata": {},
   "outputs": [
    {
     "data": {
      "text/html": [
       "<div>\n",
       "<style scoped>\n",
       "    .dataframe tbody tr th:only-of-type {\n",
       "        vertical-align: middle;\n",
       "    }\n",
       "\n",
       "    .dataframe tbody tr th {\n",
       "        vertical-align: top;\n",
       "    }\n",
       "\n",
       "    .dataframe thead th {\n",
       "        text-align: right;\n",
       "    }\n",
       "</style>\n",
       "<table border=\"1\" class=\"dataframe\">\n",
       "  <thead>\n",
       "    <tr style=\"text-align: right;\">\n",
       "      <th></th>\n",
       "      <th>possess_room</th>\n",
       "      <th>possess_computer</th>\n",
       "      <th>possess_internet</th>\n",
       "      <th>possess_textbook</th>\n",
       "    </tr>\n",
       "  </thead>\n",
       "  <tbody>\n",
       "    <tr>\n",
       "      <th>0</th>\n",
       "      <td>No</td>\n",
       "      <td>No</td>\n",
       "      <td>No</td>\n",
       "      <td>Yes</td>\n",
       "    </tr>\n",
       "    <tr>\n",
       "      <th>1</th>\n",
       "      <td>Yes</td>\n",
       "      <td>Yes</td>\n",
       "      <td>Yes</td>\n",
       "      <td>Yes</td>\n",
       "    </tr>\n",
       "  </tbody>\n",
       "</table>\n",
       "</div>"
      ],
      "text/plain": [
       "  possess_room possess_computer possess_internet possess_textbook\n",
       "0           No               No               No              Yes\n",
       "1          Yes              Yes              Yes              Yes"
      ]
     },
     "execution_count": 36,
     "metadata": {},
     "output_type": "execute_result"
    }
   ],
   "source": [
    "pisa_df[possession].head(2)"
   ]
  },
  {
   "cell_type": "markdown",
   "metadata": {},
   "source": [
    "To reduce memory usage and internal order, it will be ideal to convert this columns to category with the order of ['No', 'Yes']"
   ]
  },
  {
   "cell_type": "code",
   "execution_count": 37,
   "metadata": {},
   "outputs": [],
   "source": [
    "order_cat(possession, order=['No', 'Yes'])"
   ]
  },
  {
   "cell_type": "markdown",
   "metadata": {},
   "source": [
    "After changing the type"
   ]
  },
  {
   "cell_type": "code",
   "execution_count": 38,
   "metadata": {},
   "outputs": [
    {
     "name": "stdout",
     "output_type": "stream",
     "text": [
      "<class 'pandas.core.frame.DataFrame'>\n",
      "RangeIndex: 200000 entries, 0 to 199999\n",
      "Data columns (total 4 columns):\n",
      " #   Column            Non-Null Count   Dtype   \n",
      "---  ------            --------------   -----   \n",
      " 0   possess_room      194627 non-null  category\n",
      " 1   possess_computer  194277 non-null  category\n",
      " 2   possess_internet  194110 non-null  category\n",
      " 3   possess_textbook  192970 non-null  category\n",
      "dtypes: category(4)\n",
      "memory usage: 781.9 KB\n"
     ]
    }
   ],
   "source": [
    "pisa_df[possession].info()"
   ]
  },
  {
   "cell_type": "markdown",
   "metadata": {},
   "source": [
    "### Gender"
   ]
  },
  {
   "cell_type": "code",
   "execution_count": 39,
   "metadata": {},
   "outputs": [],
   "source": [
    "# making gender to be of category type\n",
    "pisa_df['gender'] = pisa_df['gender'].astype('category')"
   ]
  },
  {
   "cell_type": "markdown",
   "metadata": {},
   "source": [
    "### Math related"
   ]
  },
  {
   "cell_type": "code",
   "execution_count": 40,
   "metadata": {},
   "outputs": [
    {
     "data": {
      "text/html": [
       "<div>\n",
       "<style scoped>\n",
       "    .dataframe tbody tr th:only-of-type {\n",
       "        vertical-align: middle;\n",
       "    }\n",
       "\n",
       "    .dataframe tbody tr th {\n",
       "        vertical-align: top;\n",
       "    }\n",
       "\n",
       "    .dataframe thead th {\n",
       "        text-align: right;\n",
       "    }\n",
       "</style>\n",
       "<table border=\"1\" class=\"dataframe\">\n",
       "  <thead>\n",
       "    <tr style=\"text-align: right;\">\n",
       "      <th></th>\n",
       "      <th>math_interest</th>\n",
       "      <th>math_anxiety</th>\n",
       "      <th>math_behaviour</th>\n",
       "      <th>math_score</th>\n",
       "    </tr>\n",
       "  </thead>\n",
       "  <tbody>\n",
       "    <tr>\n",
       "      <th>0</th>\n",
       "      <td>Agree</td>\n",
       "      <td>Agree</td>\n",
       "      <td>0.6426</td>\n",
       "      <td>406.8469</td>\n",
       "    </tr>\n",
       "    <tr>\n",
       "      <th>1</th>\n",
       "      <td>Agree</td>\n",
       "      <td>NaN</td>\n",
       "      <td>1.4702</td>\n",
       "      <td>486.1427</td>\n",
       "    </tr>\n",
       "    <tr>\n",
       "      <th>2</th>\n",
       "      <td>Strongly agree</td>\n",
       "      <td>NaN</td>\n",
       "      <td>0.9618</td>\n",
       "      <td>533.2684</td>\n",
       "    </tr>\n",
       "    <tr>\n",
       "      <th>3</th>\n",
       "      <td>NaN</td>\n",
       "      <td>NaN</td>\n",
       "      <td>NaN</td>\n",
       "      <td>412.2215</td>\n",
       "    </tr>\n",
       "    <tr>\n",
       "      <th>4</th>\n",
       "      <td>Strongly agree</td>\n",
       "      <td>Strongly agree</td>\n",
       "      <td>1.8169</td>\n",
       "      <td>381.9209</td>\n",
       "    </tr>\n",
       "  </tbody>\n",
       "</table>\n",
       "</div>"
      ],
      "text/plain": [
       "    math_interest    math_anxiety  math_behaviour  math_score\n",
       "0           Agree           Agree          0.6426    406.8469\n",
       "1           Agree             NaN          1.4702    486.1427\n",
       "2  Strongly agree             NaN          0.9618    533.2684\n",
       "3             NaN             NaN             NaN    412.2215\n",
       "4  Strongly agree  Strongly agree          1.8169    381.9209"
      ]
     },
     "execution_count": 40,
     "metadata": {},
     "output_type": "execute_result"
    }
   ],
   "source": [
    "math_related = pisa_df.columns[pisa_df.columns.str.startswith('math')]\n",
    "\n",
    "pisa_df[math_related].head()"
   ]
  },
  {
   "cell_type": "code",
   "execution_count": 41,
   "metadata": {},
   "outputs": [
    {
     "name": "stdout",
     "output_type": "stream",
     "text": [
      "math_interest:  ['Agree' 'Strongly agree' nan 'Disagree' 'Strongly disagree']\n",
      "math_anxiety:  ['Agree' nan 'Strongly agree' 'Disagree' 'Strongly disagree']\n"
     ]
    }
   ],
   "source": [
    "for col in math_related[:2]:\n",
    "    print(f'{col}: ', pisa_df[col].unique())"
   ]
  },
  {
   "cell_type": "markdown",
   "metadata": {},
   "source": [
    "It will be reasonable to place both math interest and anxiety in the following order:\n",
    "* Strongly disagree\n",
    "* Disagree\n",
    "* Agree\n",
    "* Strongly agree"
   ]
  },
  {
   "cell_type": "code",
   "execution_count": 42,
   "metadata": {},
   "outputs": [],
   "source": [
    "order_cat(math_related[:2])"
   ]
  },
  {
   "cell_type": "markdown",
   "metadata": {},
   "source": [
    "After the ordering has been corrected"
   ]
  },
  {
   "cell_type": "code",
   "execution_count": 43,
   "metadata": {},
   "outputs": [
    {
     "data": {
      "text/plain": [
       "CategoricalDtype(categories=['Strongly disagree', 'Disagree', 'Agree', 'Strongly agree'], ordered=True)"
      ]
     },
     "execution_count": 43,
     "metadata": {},
     "output_type": "execute_result"
    }
   ],
   "source": [
    "pisa_df[math_related[1]].dtype"
   ]
  },
  {
   "cell_type": "markdown",
   "metadata": {},
   "source": [
    "### Student failure attribute"
   ]
  },
  {
   "cell_type": "markdown",
   "metadata": {},
   "source": [
    "It will be logical if student failure attributes are placed as ordinal category."
   ]
  },
  {
   "cell_type": "code",
   "execution_count": 44,
   "metadata": {},
   "outputs": [],
   "source": [
    "order_cat(['failure_attr'], order=['Not at all likely', 'Slightly likely', 'Likely', 'Very   Likely'])"
   ]
  },
  {
   "cell_type": "code",
   "execution_count": 45,
   "metadata": {},
   "outputs": [
    {
     "data": {
      "text/plain": [
       "CategoricalDtype(categories=['Not at all likely', 'Slightly likely', 'Likely',\n",
       "                  'Very   Likely'],\n",
       ", ordered=True)"
      ]
     },
     "execution_count": 45,
     "metadata": {},
     "output_type": "execute_result"
    }
   ],
   "source": [
    "# after order\n",
    "pisa_df['failure_attr'].dtype"
   ]
  },
  {
   "cell_type": "markdown",
   "metadata": {},
   "source": [
    "### Summary analysis of the dataset"
   ]
  },
  {
   "cell_type": "code",
   "execution_count": 46,
   "metadata": {},
   "outputs": [
    {
     "data": {
      "text/html": [
       "<div>\n",
       "<style scoped>\n",
       "    .dataframe tbody tr th:only-of-type {\n",
       "        vertical-align: middle;\n",
       "    }\n",
       "\n",
       "    .dataframe tbody tr th {\n",
       "        vertical-align: top;\n",
       "    }\n",
       "\n",
       "    .dataframe thead th {\n",
       "        text-align: right;\n",
       "    }\n",
       "</style>\n",
       "<table border=\"1\" class=\"dataframe\">\n",
       "  <thead>\n",
       "    <tr style=\"text-align: right;\">\n",
       "      <th></th>\n",
       "      <th>intl_grade</th>\n",
       "      <th>age_at_pri_sch</th>\n",
       "      <th>skip_class</th>\n",
       "      <th>father_earning_pct</th>\n",
       "      <th>mother_earning_pct</th>\n",
       "      <th>math_behaviour</th>\n",
       "      <th>teacher_behaviour</th>\n",
       "      <th>teacher_support</th>\n",
       "      <th>math_score</th>\n",
       "      <th>read_score</th>\n",
       "      <th>science_score</th>\n",
       "    </tr>\n",
       "  </thead>\n",
       "  <tbody>\n",
       "    <tr>\n",
       "      <th>count</th>\n",
       "      <td>200000.000000</td>\n",
       "      <td>184727.000000</td>\n",
       "      <td>196481.000000</td>\n",
       "      <td>169195.000000</td>\n",
       "      <td>157717.000000</td>\n",
       "      <td>128231.000000</td>\n",
       "      <td>128395.000000</td>\n",
       "      <td>129264.000000</td>\n",
       "      <td>200000.000000</td>\n",
       "      <td>200000.000000</td>\n",
       "      <td>200000.000000</td>\n",
       "    </tr>\n",
       "    <tr>\n",
       "      <th>mean</th>\n",
       "      <td>9.724060</td>\n",
       "      <td>6.053138</td>\n",
       "      <td>1.254223</td>\n",
       "      <td>43.876301</td>\n",
       "      <td>45.086883</td>\n",
       "      <td>0.137802</td>\n",
       "      <td>0.140403</td>\n",
       "      <td>0.180976</td>\n",
       "      <td>471.075796</td>\n",
       "      <td>474.879066</td>\n",
       "      <td>480.629329</td>\n",
       "    </tr>\n",
       "    <tr>\n",
       "      <th>std</th>\n",
       "      <td>2.229471</td>\n",
       "      <td>1.186729</td>\n",
       "      <td>0.573415</td>\n",
       "      <td>21.884619</td>\n",
       "      <td>21.995521</td>\n",
       "      <td>1.030937</td>\n",
       "      <td>1.030047</td>\n",
       "      <td>1.003438</td>\n",
       "      <td>101.449512</td>\n",
       "      <td>102.002925</td>\n",
       "      <td>101.774531</td>\n",
       "    </tr>\n",
       "    <tr>\n",
       "      <th>min</th>\n",
       "      <td>7.000000</td>\n",
       "      <td>4.000000</td>\n",
       "      <td>1.000000</td>\n",
       "      <td>11.010000</td>\n",
       "      <td>11.010000</td>\n",
       "      <td>-2.140200</td>\n",
       "      <td>-2.391900</td>\n",
       "      <td>-2.920000</td>\n",
       "      <td>19.792800</td>\n",
       "      <td>0.083400</td>\n",
       "      <td>6.844500</td>\n",
       "    </tr>\n",
       "    <tr>\n",
       "      <th>25%</th>\n",
       "      <td>9.000000</td>\n",
       "      <td>5.000000</td>\n",
       "      <td>1.000000</td>\n",
       "      <td>25.710000</td>\n",
       "      <td>25.040000</td>\n",
       "      <td>-0.456700</td>\n",
       "      <td>-0.594500</td>\n",
       "      <td>-0.470000</td>\n",
       "      <td>397.655400</td>\n",
       "      <td>407.008400</td>\n",
       "      <td>409.399500</td>\n",
       "    </tr>\n",
       "    <tr>\n",
       "      <th>50%</th>\n",
       "      <td>10.000000</td>\n",
       "      <td>6.000000</td>\n",
       "      <td>1.000000</td>\n",
       "      <td>36.350000</td>\n",
       "      <td>43.330000</td>\n",
       "      <td>0.217100</td>\n",
       "      <td>0.250900</td>\n",
       "      <td>0.110000</td>\n",
       "      <td>470.252400</td>\n",
       "      <td>479.131800</td>\n",
       "      <td>481.853800</td>\n",
       "    </tr>\n",
       "    <tr>\n",
       "      <th>75%</th>\n",
       "      <td>10.000000</td>\n",
       "      <td>7.000000</td>\n",
       "      <td>1.000000</td>\n",
       "      <td>65.010000</td>\n",
       "      <td>65.420000</td>\n",
       "      <td>0.811000</td>\n",
       "      <td>0.764400</td>\n",
       "      <td>0.970000</td>\n",
       "      <td>543.316700</td>\n",
       "      <td>546.908300</td>\n",
       "      <td>553.002600</td>\n",
       "    </tr>\n",
       "    <tr>\n",
       "      <th>max</th>\n",
       "      <td>96.000000</td>\n",
       "      <td>16.000000</td>\n",
       "      <td>4.000000</td>\n",
       "      <td>88.960000</td>\n",
       "      <td>88.960000</td>\n",
       "      <td>4.424900</td>\n",
       "      <td>2.629500</td>\n",
       "      <td>1.680000</td>\n",
       "      <td>896.798600</td>\n",
       "      <td>875.705800</td>\n",
       "      <td>845.897100</td>\n",
       "    </tr>\n",
       "  </tbody>\n",
       "</table>\n",
       "</div>"
      ],
      "text/plain": [
       "          intl_grade  age_at_pri_sch     skip_class  father_earning_pct  \\\n",
       "count  200000.000000   184727.000000  196481.000000       169195.000000   \n",
       "mean        9.724060        6.053138       1.254223           43.876301   \n",
       "std         2.229471        1.186729       0.573415           21.884619   \n",
       "min         7.000000        4.000000       1.000000           11.010000   \n",
       "25%         9.000000        5.000000       1.000000           25.710000   \n",
       "50%        10.000000        6.000000       1.000000           36.350000   \n",
       "75%        10.000000        7.000000       1.000000           65.010000   \n",
       "max        96.000000       16.000000       4.000000           88.960000   \n",
       "\n",
       "       mother_earning_pct  math_behaviour  teacher_behaviour  teacher_support  \\\n",
       "count       157717.000000   128231.000000      128395.000000    129264.000000   \n",
       "mean            45.086883        0.137802           0.140403         0.180976   \n",
       "std             21.995521        1.030937           1.030047         1.003438   \n",
       "min             11.010000       -2.140200          -2.391900        -2.920000   \n",
       "25%             25.040000       -0.456700          -0.594500        -0.470000   \n",
       "50%             43.330000        0.217100           0.250900         0.110000   \n",
       "75%             65.420000        0.811000           0.764400         0.970000   \n",
       "max             88.960000        4.424900           2.629500         1.680000   \n",
       "\n",
       "          math_score     read_score  science_score  \n",
       "count  200000.000000  200000.000000  200000.000000  \n",
       "mean      471.075796     474.879066     480.629329  \n",
       "std       101.449512     102.002925     101.774531  \n",
       "min        19.792800       0.083400       6.844500  \n",
       "25%       397.655400     407.008400     409.399500  \n",
       "50%       470.252400     479.131800     481.853800  \n",
       "75%       543.316700     546.908300     553.002600  \n",
       "max       896.798600     875.705800     845.897100  "
      ]
     },
     "execution_count": 46,
     "metadata": {},
     "output_type": "execute_result"
    }
   ],
   "source": [
    "pisa_df.describe()"
   ]
  },
  {
   "cell_type": "markdown",
   "metadata": {},
   "source": [
    "### Saving the processed data"
   ]
  },
  {
   "cell_type": "code",
   "execution_count": 47,
   "metadata": {},
   "outputs": [],
   "source": [
    "pisa_df.to_csv('process_data.csv')"
   ]
  },
  {
   "cell_type": "code",
   "execution_count": 48,
   "metadata": {},
   "outputs": [
    {
     "data": {
      "text/html": [
       "<div>\n",
       "<style scoped>\n",
       "    .dataframe tbody tr th:only-of-type {\n",
       "        vertical-align: middle;\n",
       "    }\n",
       "\n",
       "    .dataframe tbody tr th {\n",
       "        vertical-align: top;\n",
       "    }\n",
       "\n",
       "    .dataframe thead th {\n",
       "        text-align: right;\n",
       "    }\n",
       "</style>\n",
       "<table border=\"1\" class=\"dataframe\">\n",
       "  <thead>\n",
       "    <tr style=\"text-align: right;\">\n",
       "      <th></th>\n",
       "      <th>country</th>\n",
       "      <th>stud_id</th>\n",
       "      <th>intl_grade</th>\n",
       "      <th>gender</th>\n",
       "      <th>pri_sch</th>\n",
       "      <th>age_at_pri_sch</th>\n",
       "      <th>late_for_school</th>\n",
       "      <th>skip_day</th>\n",
       "      <th>skip_class</th>\n",
       "      <th>mother_sch_lvl</th>\n",
       "      <th>...</th>\n",
       "      <th>math_anxiety</th>\n",
       "      <th>failure_attr</th>\n",
       "      <th>father_earning_pct</th>\n",
       "      <th>mother_earning_pct</th>\n",
       "      <th>math_behaviour</th>\n",
       "      <th>teacher_behaviour</th>\n",
       "      <th>teacher_support</th>\n",
       "      <th>math_score</th>\n",
       "      <th>read_score</th>\n",
       "      <th>science_score</th>\n",
       "    </tr>\n",
       "  </thead>\n",
       "  <tbody>\n",
       "    <tr>\n",
       "      <th>0</th>\n",
       "      <td>Albania</td>\n",
       "      <td>1</td>\n",
       "      <td>10</td>\n",
       "      <td>Female</td>\n",
       "      <td>No</td>\n",
       "      <td>6.0</td>\n",
       "      <td>None</td>\n",
       "      <td>None</td>\n",
       "      <td>1.0</td>\n",
       "      <td>ISCED level 3A</td>\n",
       "      <td>...</td>\n",
       "      <td>Agree</td>\n",
       "      <td>Slightly likely</td>\n",
       "      <td>76.49</td>\n",
       "      <td>79.74</td>\n",
       "      <td>0.6426</td>\n",
       "      <td>1.3625</td>\n",
       "      <td>1.68</td>\n",
       "      <td>406.8469</td>\n",
       "      <td>249.5762</td>\n",
       "      <td>341.7009</td>\n",
       "    </tr>\n",
       "    <tr>\n",
       "      <th>1</th>\n",
       "      <td>Albania</td>\n",
       "      <td>2</td>\n",
       "      <td>10</td>\n",
       "      <td>Female</td>\n",
       "      <td>Yes, for more than one year</td>\n",
       "      <td>7.0</td>\n",
       "      <td>One or two times</td>\n",
       "      <td>None</td>\n",
       "      <td>1.0</td>\n",
       "      <td>ISCED level 3A</td>\n",
       "      <td>...</td>\n",
       "      <td>NaN</td>\n",
       "      <td>Slightly likely</td>\n",
       "      <td>15.35</td>\n",
       "      <td>23.47</td>\n",
       "      <td>1.4702</td>\n",
       "      <td>NaN</td>\n",
       "      <td>NaN</td>\n",
       "      <td>486.1427</td>\n",
       "      <td>406.2936</td>\n",
       "      <td>548.9929</td>\n",
       "    </tr>\n",
       "    <tr>\n",
       "      <th>2</th>\n",
       "      <td>Albania</td>\n",
       "      <td>3</td>\n",
       "      <td>9</td>\n",
       "      <td>Female</td>\n",
       "      <td>Yes, for more than one year</td>\n",
       "      <td>6.0</td>\n",
       "      <td>None</td>\n",
       "      <td>None</td>\n",
       "      <td>1.0</td>\n",
       "      <td>ISCED level 3B, 3C</td>\n",
       "      <td>...</td>\n",
       "      <td>NaN</td>\n",
       "      <td>Likely</td>\n",
       "      <td>22.57</td>\n",
       "      <td>NaN</td>\n",
       "      <td>0.9618</td>\n",
       "      <td>NaN</td>\n",
       "      <td>NaN</td>\n",
       "      <td>533.2684</td>\n",
       "      <td>401.2100</td>\n",
       "      <td>499.6643</td>\n",
       "    </tr>\n",
       "    <tr>\n",
       "      <th>3</th>\n",
       "      <td>Albania</td>\n",
       "      <td>4</td>\n",
       "      <td>9</td>\n",
       "      <td>Female</td>\n",
       "      <td>Yes, for more than one year</td>\n",
       "      <td>6.0</td>\n",
       "      <td>None</td>\n",
       "      <td>None</td>\n",
       "      <td>1.0</td>\n",
       "      <td>ISCED level 3B, 3C</td>\n",
       "      <td>...</td>\n",
       "      <td>NaN</td>\n",
       "      <td>NaN</td>\n",
       "      <td>14.21</td>\n",
       "      <td>NaN</td>\n",
       "      <td>NaN</td>\n",
       "      <td>0.7644</td>\n",
       "      <td>1.68</td>\n",
       "      <td>412.2215</td>\n",
       "      <td>547.3630</td>\n",
       "      <td>438.6796</td>\n",
       "    </tr>\n",
       "    <tr>\n",
       "      <th>4</th>\n",
       "      <td>Albania</td>\n",
       "      <td>5</td>\n",
       "      <td>9</td>\n",
       "      <td>Female</td>\n",
       "      <td>Yes, for more than one year</td>\n",
       "      <td>6.0</td>\n",
       "      <td>One or two times</td>\n",
       "      <td>None</td>\n",
       "      <td>2.0</td>\n",
       "      <td>She did not complete &lt;ISCED level 1&gt;</td>\n",
       "      <td>...</td>\n",
       "      <td>Strongly agree</td>\n",
       "      <td>Likely</td>\n",
       "      <td>80.92</td>\n",
       "      <td>NaN</td>\n",
       "      <td>1.8169</td>\n",
       "      <td>0.7644</td>\n",
       "      <td>0.11</td>\n",
       "      <td>381.9209</td>\n",
       "      <td>311.7707</td>\n",
       "      <td>361.5628</td>\n",
       "    </tr>\n",
       "  </tbody>\n",
       "</table>\n",
       "<p>5 rows × 29 columns</p>\n",
       "</div>"
      ],
      "text/plain": [
       "   country stud_id  intl_grade  gender                      pri_sch  \\\n",
       "0  Albania       1          10  Female                           No   \n",
       "1  Albania       2          10  Female  Yes, for more than one year   \n",
       "2  Albania       3           9  Female  Yes, for more than one year   \n",
       "3  Albania       4           9  Female  Yes, for more than one year   \n",
       "4  Albania       5           9  Female  Yes, for more than one year   \n",
       "\n",
       "   age_at_pri_sch     late_for_school skip_day  skip_class  \\\n",
       "0             6.0              None       None         1.0   \n",
       "1             7.0  One or two times       None         1.0   \n",
       "2             6.0              None       None         1.0   \n",
       "3             6.0              None       None         1.0   \n",
       "4             6.0  One or two times       None         2.0   \n",
       "\n",
       "                         mother_sch_lvl  ...    math_anxiety     failure_attr  \\\n",
       "0                        ISCED level 3A  ...           Agree  Slightly likely   \n",
       "1                        ISCED level 3A  ...             NaN  Slightly likely   \n",
       "2                    ISCED level 3B, 3C  ...             NaN           Likely   \n",
       "3                    ISCED level 3B, 3C  ...             NaN              NaN   \n",
       "4  She did not complete <ISCED level 1>  ...  Strongly agree           Likely   \n",
       "\n",
       "  father_earning_pct mother_earning_pct math_behaviour teacher_behaviour  \\\n",
       "0              76.49              79.74         0.6426            1.3625   \n",
       "1              15.35              23.47         1.4702               NaN   \n",
       "2              22.57                NaN         0.9618               NaN   \n",
       "3              14.21                NaN            NaN            0.7644   \n",
       "4              80.92                NaN         1.8169            0.7644   \n",
       "\n",
       "  teacher_support math_score read_score science_score  \n",
       "0            1.68   406.8469   249.5762      341.7009  \n",
       "1             NaN   486.1427   406.2936      548.9929  \n",
       "2             NaN   533.2684   401.2100      499.6643  \n",
       "3            1.68   412.2215   547.3630      438.6796  \n",
       "4            0.11   381.9209   311.7707      361.5628  \n",
       "\n",
       "[5 rows x 29 columns]"
      ]
     },
     "execution_count": 48,
     "metadata": {},
     "output_type": "execute_result"
    }
   ],
   "source": [
    "pisa_df.head()"
   ]
  },
  {
   "cell_type": "markdown",
   "metadata": {},
   "source": [
    "## Univariate Exploration\n",
    "\n",
    "In this section, investigation will be done on the distribution of individual variables. "
   ]
  },
  {
   "cell_type": "markdown",
   "metadata": {},
   "source": [
    "### Most common country and gender"
   ]
  },
  {
   "cell_type": "markdown",
   "metadata": {},
   "source": [
    "Which country has the highest number of students that fill the survey and which gender is the higest?"
   ]
  },
  {
   "cell_type": "code",
   "execution_count": 49,
   "metadata": {},
   "outputs": [],
   "source": [
    "from typing import Iterable\n",
    "\n",
    "def count_dplot(cols: Iterable, plottype: sb=sb.countplot, nrows: int=1, ncols=2, usex: bool=True, figsize: tuple=(16, 7)):\n",
    "    \"\"\"\n",
    "        This function will plot the number of occurences in the given columns using count chart and annotate each bar\n",
    "        using k to represent thousand.\n",
    "        The number of the subplots rows is default to 1 while columns is 2, this can be modified using the nrows and ncols attributes.\n",
    "        usex is default to True, this is to show vertically or horizontally.\n",
    "    \"\"\"\n",
    "    base_color = sb.color_palette()[0]\n",
    "    plt.figure(figsize=figsize)\n",
    "    if usex:\n",
    "        for i, x in enumerate(cols, 1):\n",
    "            countv = pisa_df[x].value_counts()\n",
    "            plt.subplot(nrows, ncols, i) # \n",
    "            g = plottype(data=pisa_df, x=x, color=base_color, order=countv.index) # Plotting\n",
    "            plt.xlabel(g.get_xlabel().replace(\"_\", \" \").title(), fontweight='bold') # Capitalize and bold the xlabel\n",
    "            locs, labels = plt.xticks(rotation=90) # Rotate xticks\n",
    "            for loc, label in zip(locs, labels):\n",
    "                count = countv[label.get_text()] # Getting the count of each label\n",
    "                plt.text(loc, count+300, f'{round(count/1000, 1)}k', ha='center', color='black') # Annotating each bar with their count\n",
    "            g.set_yticks([])\n",
    "            for i in ('right', 'left', 'top'):\n",
    "                g.spines[i].set_visible(False) # Turn off the chosen spines\n",
    "        plt.tight_layout() # To avoid subplot overlapping\n",
    "    else:\n",
    "        plottype(data=pisa_df, y=cols, color=base_color)"
   ]
  },
  {
   "cell_type": "code",
   "execution_count": 50,
   "metadata": {},
   "outputs": [
    {
     "data": {
      "image/png": "[encoded data removed]",
      "text/plain": [
       "<Figure size 1152x504 with 2 Axes>"
      ]
     },
     "metadata": {
      "needs_background": "light"
     },
     "output_type": "display_data"
    }
   ],
   "source": [
    "count_dplot(['country', 'gender'])"
   ]
  },
  {
   "cell_type": "markdown",
   "metadata": {},
   "source": [
    "Most of the students that fill the survey comes from Spain, Canada and Brazil with highest Female gender. Did females perform well in education than male students? Which country have highest students performance in examination?"
   ]
  },
  {
   "cell_type": "markdown",
   "metadata": {},
   "source": [
    "### Students Primary Education"
   ]
  },
  {
   "cell_type": "markdown",
   "metadata": {},
   "source": [
    "Does students have a primary education when they were young? How many years did it took to finish their primary education? What was the age of majority of students then?"
   ]
  },
  {
   "cell_type": "code",
   "execution_count": 51,
   "metadata": {},
   "outputs": [
    {
     "data": {
      "image/png": "[encoded data removed]",
      "text/plain": [
       "<Figure size 648x360 with 1 Axes>"
      ]
     },
     "metadata": {
      "needs_background": "light"
     },
     "output_type": "display_data"
    }
   ],
   "source": [
    "count_dplot('pri_sch', usex=False, figsize=(9, 5))\n",
    "plt.ylabel('Attend Primary school');"
   ]
  },
  {
   "cell_type": "markdown",
   "metadata": {},
   "source": [
    "Majority of students attended primary school for more than one year. Does primary educational knowledge of students increase or boost their score in international examination?"
   ]
  },
  {
   "cell_type": "code",
   "execution_count": 52,
   "metadata": {},
   "outputs": [
    {
     "data": {
      "text/plain": [
       "count    184727.000000\n",
       "mean          6.053138\n",
       "std           1.186729\n",
       "min           4.000000\n",
       "25%           5.000000\n",
       "50%           6.000000\n",
       "75%           7.000000\n",
       "max          16.000000\n",
       "Name: age_at_pri_sch, dtype: float64"
      ]
     },
     "execution_count": 52,
     "metadata": {},
     "output_type": "execute_result"
    }
   ],
   "source": [
    "pisa_df['age_at_pri_sch'].describe()"
   ]
  },
  {
   "cell_type": "code",
   "execution_count": 53,
   "metadata": {},
   "outputs": [
    {
     "data": {
      "image/png": "[encoded data removed]",
      "text/plain": [
       "<Figure size 432x288 with 1 Axes>"
      ]
     },
     "metadata": {
      "needs_background": "light"
     },
     "output_type": "display_data"
    }
   ],
   "source": [
    "bin_size = np.arange(4, 17, 1)\n",
    "g = sb.histplot(data=pisa_df, x='age_at_pri_sch', bins=bin_size)\n",
    "g.set_xlabel('Age at Primary school')\n",
    "g.set_title('Distribution of Age at Primary School');"
   ]
  },
  {
   "cell_type": "markdown",
   "metadata": {},
   "source": [
    "The age of most student during their Primary Education falls between 4-8 age bracket with fewer students older than that. Does early education influence student performance in education?"
   ]
  },
  {
   "cell_type": "markdown",
   "metadata": {},
   "source": [
    "### Possession"
   ]
  },
  {
   "cell_type": "markdown",
   "metadata": {},
   "source": [
    "Investigate the basic possession of students. Did students possess room, computer, internet and textbook to prepare for their education?"
   ]
  },
  {
   "cell_type": "code",
   "execution_count": 54,
   "metadata": {},
   "outputs": [
    {
     "data": {
      "image/png": "[encoded data removed]",
      "text/plain": [
       "<Figure size 504x720 with 4 Axes>"
      ]
     },
     "metadata": {
      "needs_background": "light"
     },
     "output_type": "display_data"
    }
   ],
   "source": [
    "count_dplot(possession, nrows=2, figsize=(7, 10))"
   ]
  },
  {
   "cell_type": "markdown",
   "metadata": {},
   "source": [
    "In this dataset, many students possess room and computer but some didn't e.g., 30,000 students didn't have a room to study while 18,100 students didn't have a computer to do research and learn more. How will these students perform in their examination?"
   ]
  },
  {
   "cell_type": "markdown",
   "metadata": {},
   "source": [
    "High number of students possess both internet and textbook, but quite a few didn't. Will students without textbook to read or internet to learn pass their examinations?"
   ]
  },
  {
   "cell_type": "markdown",
   "metadata": {},
   "source": [
    "### Parent Education Level & Earnings"
   ]
  },
  {
   "cell_type": "markdown",
   "metadata": {},
   "source": [
    "Investigate the educational level of the parents. What are the most common levels of educational achievement of both parent?"
   ]
  },
  {
   "cell_type": "code",
   "execution_count": 55,
   "metadata": {},
   "outputs": [
    {
     "data": {
      "image/png": "[encoded data removed]",
      "text/plain": [
       "<Figure size 1152x504 with 2 Axes>"
      ]
     },
     "metadata": {
      "needs_background": "light"
     },
     "output_type": "display_data"
    }
   ],
   "source": [
    "count_dplot(p_schlvl_cols)"
   ]
  },
  {
   "cell_type": "markdown",
   "metadata": {},
   "source": [
    "There is right skewed distribution in both parent educational level, i.e., Approximately half of the students in the study have a parent with some college education. How well did students that have parent with degree perform compare to those with None? Does parent education influence the performance of students?"
   ]
  },
  {
   "cell_type": "markdown",
   "metadata": {},
   "source": [
    "### Parent Job Status"
   ]
  },
  {
   "cell_type": "markdown",
   "metadata": {},
   "source": [
    "Since approximately half of the students parent have high degree, are they employed full-time or part-time?"
   ]
  },
  {
   "cell_type": "code",
   "execution_count": 56,
   "metadata": {},
   "outputs": [
    {
     "data": {
      "image/png": "[encoded data removed]",
      "text/plain": [
       "<Figure size 1152x504 with 2 Axes>"
      ]
     },
     "metadata": {
      "needs_background": "light"
     },
     "output_type": "display_data"
    }
   ],
   "source": [
    "count_dplot(['father_job_status', 'mother_job_status'])"
   ]
  },
  {
   "cell_type": "markdown",
   "metadata": {},
   "source": [
    "High number of student's parent are employed full-time with slight number of retiree and part-time workers. Does student with working full-time perform higher than those without?"
   ]
  },
  {
   "cell_type": "markdown",
   "metadata": {},
   "source": [
    "### Distribution of Parent Earning (Pct)"
   ]
  },
  {
   "cell_type": "code",
   "execution_count": 57,
   "metadata": {},
   "outputs": [
    {
     "data": {
      "text/html": [
       "<div>\n",
       "<style scoped>\n",
       "    .dataframe tbody tr th:only-of-type {\n",
       "        vertical-align: middle;\n",
       "    }\n",
       "\n",
       "    .dataframe tbody tr th {\n",
       "        vertical-align: top;\n",
       "    }\n",
       "\n",
       "    .dataframe thead th {\n",
       "        text-align: right;\n",
       "    }\n",
       "</style>\n",
       "<table border=\"1\" class=\"dataframe\">\n",
       "  <thead>\n",
       "    <tr style=\"text-align: right;\">\n",
       "      <th></th>\n",
       "      <th>father_earning_pct</th>\n",
       "      <th>mother_earning_pct</th>\n",
       "    </tr>\n",
       "  </thead>\n",
       "  <tbody>\n",
       "    <tr>\n",
       "      <th>count</th>\n",
       "      <td>169195.000000</td>\n",
       "      <td>157717.000000</td>\n",
       "    </tr>\n",
       "    <tr>\n",
       "      <th>mean</th>\n",
       "      <td>43.876301</td>\n",
       "      <td>45.086883</td>\n",
       "    </tr>\n",
       "    <tr>\n",
       "      <th>std</th>\n",
       "      <td>21.884619</td>\n",
       "      <td>21.995521</td>\n",
       "    </tr>\n",
       "    <tr>\n",
       "      <th>min</th>\n",
       "      <td>11.010000</td>\n",
       "      <td>11.010000</td>\n",
       "    </tr>\n",
       "    <tr>\n",
       "      <th>25%</th>\n",
       "      <td>25.710000</td>\n",
       "      <td>25.040000</td>\n",
       "    </tr>\n",
       "    <tr>\n",
       "      <th>50%</th>\n",
       "      <td>36.350000</td>\n",
       "      <td>43.330000</td>\n",
       "    </tr>\n",
       "    <tr>\n",
       "      <th>75%</th>\n",
       "      <td>65.010000</td>\n",
       "      <td>65.420000</td>\n",
       "    </tr>\n",
       "    <tr>\n",
       "      <th>max</th>\n",
       "      <td>88.960000</td>\n",
       "      <td>88.960000</td>\n",
       "    </tr>\n",
       "  </tbody>\n",
       "</table>\n",
       "</div>"
      ],
      "text/plain": [
       "       father_earning_pct  mother_earning_pct\n",
       "count       169195.000000       157717.000000\n",
       "mean            43.876301           45.086883\n",
       "std             21.884619           21.995521\n",
       "min             11.010000           11.010000\n",
       "25%             25.710000           25.040000\n",
       "50%             36.350000           43.330000\n",
       "75%             65.010000           65.420000\n",
       "max             88.960000           88.960000"
      ]
     },
     "execution_count": 57,
     "metadata": {},
     "output_type": "execute_result"
    }
   ],
   "source": [
    "pisa_df[['father_earning_pct', 'mother_earning_pct']].describe()"
   ]
  },
  {
   "cell_type": "code",
   "execution_count": 58,
   "metadata": {},
   "outputs": [
    {
     "data": {
      "image/png": "[encoded data removed]",
      "text/plain": [
       "<Figure size 1008x360 with 2 Axes>"
      ]
     },
     "metadata": {
      "needs_background": "light"
     },
     "output_type": "display_data"
    }
   ],
   "source": [
    "bins = np.arange(11, 89, 2)\n",
    "plt.figure(figsize= (14, 5))\n",
    "for k, col in enumerate(['father_earning_pct', 'mother_earning_pct'], 1):\n",
    "    plt.subplot(1, 2, k)\n",
    "    plt.hist(pisa_df[col], bins=bins, color='b', alpha=0.5)\n",
    "    plt.xlabel(col.replace(\"_\", \" \").title())\n",
    "plt.ylabel('Frequency')\n",
    "plt.suptitle('Distribution of Parent Earnings', fontweight='bold');"
   ]
  },
  {
   "cell_type": "markdown",
   "metadata": {},
   "source": [
    "Distribution of Parent earnings (Pct) is fairly spread out with approximate mean of 44, 45 respectively and standard deviation of 22 (with both minimum and maximum of 11 and 89 respectively). Does parent earning affect the performance of students in school?"
   ]
  },
  {
   "cell_type": "markdown",
   "metadata": {},
   "source": [
    "### Math attributes"
   ]
  },
  {
   "cell_type": "markdown",
   "metadata": {},
   "source": [
    "Are students interested in mathematics?"
   ]
  },
  {
   "cell_type": "code",
   "execution_count": 59,
   "metadata": {},
   "outputs": [
    {
     "data": {
      "image/png": "[encoded data removed]",
      "text/plain": [
       "<Figure size 720x360 with 2 Axes>"
      ]
     },
     "metadata": {
      "needs_background": "light"
     },
     "output_type": "display_data"
    }
   ],
   "source": [
    "count_dplot(math_related[:2], figsize=(10, 5))"
   ]
  },
  {
   "cell_type": "markdown",
   "metadata": {},
   "source": [
    "According to the survey data, many students agree to be interested in mathematics while some diagree so as the anxiety towards mathematics. Is it because of the teacher's behaviour or teacher's support? Or does primary education contribute to their interest or anxiety towards mathematics?"
   ]
  },
  {
   "cell_type": "code",
   "execution_count": 60,
   "metadata": {},
   "outputs": [
    {
     "data": {
      "image/png": "[encoded data removed]",
      "text/plain": [
       "<Figure size 1080x288 with 2 Axes>"
      ]
     },
     "metadata": {
      "needs_background": "light"
     },
     "output_type": "display_data"
    }
   ],
   "source": [
    "bins = np.arange(-2, 3, 0.3)\n",
    "plt.figure(figsize=(15, 4))\n",
    "plt.subplot(1, 2, 1)\n",
    "plt.hist(pisa_df['teacher_behaviour'], bins=bins)\n",
    "plt.title(\"Teacher's behaviour\")\n",
    "plt.xlabel('Rate')\n",
    "\n",
    "plt.subplot(1,2,2)\n",
    "plt.hist(pisa_df['teacher_support'], bins=bins)\n",
    "plt.title(\"Teacher's support\")\n",
    "plt.xlabel('Rate');"
   ]
  },
  {
   "cell_type": "markdown",
   "metadata": {},
   "source": [
    "The distribution of teacher's behaviour tends to be uni-modal distribution (i.e., between -1 and 2) while teacher's support rate is skewed to the left. There are noticable extreme values in this distribution that may worth further investigation (negative values and some values towards 3)."
   ]
  },
  {
   "cell_type": "markdown",
   "metadata": {},
   "source": [
    "### Distribution of Students performance in different subjects"
   ]
  },
  {
   "cell_type": "markdown",
   "metadata": {},
   "source": [
    "Examine the distribution of student scores in different subjects. Are there any obvious differences in the distribution? "
   ]
  },
  {
   "cell_type": "code",
   "execution_count": 61,
   "metadata": {},
   "outputs": [
    {
     "data": {
      "image/png": "[encoded data removed]",
      "text/plain": [
       "<Figure size 1008x432 with 3 Axes>"
      ]
     },
     "metadata": {
      "needs_background": "light"
     },
     "output_type": "display_data"
    }
   ],
   "source": [
    "def score_distribution():\n",
    "    fig, axes = plt.subplots(nrows=1, ncols=3, figsize=(14, 6))\n",
    "    cols = ['math_score', 'read_score', 'science_score']\n",
    "    for i, ax in enumerate(axes):\n",
    "        g = sb.histplot(data=pisa_df, x=cols[i], ax=ax)\n",
    "        g.set_xlabel(g.get_xlabel().replace(\"_\", \" \").title())\n",
    "    plt.suptitle('Student score distribution in different subjects', fontweight='bold')\n",
    "    plt.tight_layout();\n",
    "\n",
    "score_distribution()"
   ]
  },
  {
   "cell_type": "markdown",
   "metadata": {},
   "source": [
    "The distribution of students scores are normally distributed with mean between (470-480) and standard deviation (101-102). What contributes to the success of the students with highest score?"
   ]
  },
  {
   "cell_type": "code",
   "execution_count": 62,
   "metadata": {},
   "outputs": [
    {
     "data": {
      "text/html": [
       "<div>\n",
       "<style scoped>\n",
       "    .dataframe tbody tr th:only-of-type {\n",
       "        vertical-align: middle;\n",
       "    }\n",
       "\n",
       "    .dataframe tbody tr th {\n",
       "        vertical-align: top;\n",
       "    }\n",
       "\n",
       "    .dataframe thead th {\n",
       "        text-align: right;\n",
       "    }\n",
       "</style>\n",
       "<table border=\"1\" class=\"dataframe\">\n",
       "  <thead>\n",
       "    <tr style=\"text-align: right;\">\n",
       "      <th></th>\n",
       "      <th>math_score</th>\n",
       "      <th>read_score</th>\n",
       "      <th>science_score</th>\n",
       "    </tr>\n",
       "  </thead>\n",
       "  <tbody>\n",
       "    <tr>\n",
       "      <th>count</th>\n",
       "      <td>200000.00</td>\n",
       "      <td>200000.00</td>\n",
       "      <td>200000.00</td>\n",
       "    </tr>\n",
       "    <tr>\n",
       "      <th>mean</th>\n",
       "      <td>471.08</td>\n",
       "      <td>474.88</td>\n",
       "      <td>480.63</td>\n",
       "    </tr>\n",
       "    <tr>\n",
       "      <th>std</th>\n",
       "      <td>101.45</td>\n",
       "      <td>102.00</td>\n",
       "      <td>101.77</td>\n",
       "    </tr>\n",
       "    <tr>\n",
       "      <th>min</th>\n",
       "      <td>19.79</td>\n",
       "      <td>0.08</td>\n",
       "      <td>6.84</td>\n",
       "    </tr>\n",
       "    <tr>\n",
       "      <th>25%</th>\n",
       "      <td>397.66</td>\n",
       "      <td>407.01</td>\n",
       "      <td>409.40</td>\n",
       "    </tr>\n",
       "    <tr>\n",
       "      <th>50%</th>\n",
       "      <td>470.25</td>\n",
       "      <td>479.13</td>\n",
       "      <td>481.85</td>\n",
       "    </tr>\n",
       "    <tr>\n",
       "      <th>75%</th>\n",
       "      <td>543.32</td>\n",
       "      <td>546.91</td>\n",
       "      <td>553.00</td>\n",
       "    </tr>\n",
       "    <tr>\n",
       "      <th>max</th>\n",
       "      <td>896.80</td>\n",
       "      <td>875.71</td>\n",
       "      <td>845.90</td>\n",
       "    </tr>\n",
       "  </tbody>\n",
       "</table>\n",
       "</div>"
      ],
      "text/plain": [
       "       math_score  read_score  science_score\n",
       "count   200000.00   200000.00      200000.00\n",
       "mean       471.08      474.88         480.63\n",
       "std        101.45      102.00         101.77\n",
       "min         19.79        0.08           6.84\n",
       "25%        397.66      407.01         409.40\n",
       "50%        470.25      479.13         481.85\n",
       "75%        543.32      546.91         553.00\n",
       "max        896.80      875.71         845.90"
      ]
     },
     "execution_count": 62,
     "metadata": {},
     "output_type": "execute_result"
    }
   ],
   "source": [
    "pisa_df.iloc[:, -3:].describe().round(2)"
   ]
  },
  {
   "cell_type": "markdown",
   "metadata": {},
   "source": [
    "### Discuss the distribution(s) of your variable(s) of interest. Were there any unusual points? Did you need to perform any transformations?\n",
    "\n",
    "- Students that filled the survey mostly come from Spain, Canada and Brazil etc., with highest number of Females.\n",
    "- Approximately half of the student in this study have parent with more or college degree.\n",
    "- There are quite number of students in the survey with no access to room to study, computer to do research so as internet and text! How will this student have distinction in their examination?\n",
    "- Yes, transformation is done on some columns with observation having redundant character, leading and trailing spaces while na values were replaced with None in some columns for consistency. And some columns with inappropriate data type were converted into their right type and some columns which are categorical in nature were converted to category so as to make the data frame efficient and also reduce significant amount of memory.\n",
    "\n",
    "### Of the features you investigated, were there any unusual distributions? Did you perform any operations on the data to tidy, adjust, or change the form of the data? If so, why did you do this?\n",
    "\n",
    "- Only the needed data were extracted from pisa dataset with thousands of rows with no tidiness issue but quality.\n",
    "- Many variables were converted to ordinal categorical variable, this enables the plots to show the category in their logical order which improves the readability of the graph and also reduce the memory usage significantly.\n",
    "- Parent earning (Pct) has a distribution with no clear shape or pattern."
   ]
  },
  {
   "cell_type": "markdown",
   "metadata": {},
   "source": [
    "## Bivariate Exploration\n",
    "\n",
    "> In this section, all pairs of variables in the data will be investigated so as to identify the relationships between them."
   ]
  },
  {
   "cell_type": "code",
   "execution_count": null,
   "metadata": {},
   "outputs": [],
   "source": []
  },
  {
   "cell_type": "code",
   "execution_count": null,
   "metadata": {},
   "outputs": [],
   "source": []
  },
  {
   "cell_type": "code",
   "execution_count": null,
   "metadata": {},
   "outputs": [],
   "source": []
  },
  {
   "cell_type": "code",
   "execution_count": null,
   "metadata": {},
   "outputs": [],
   "source": []
  },
  {
   "cell_type": "code",
   "execution_count": null,
   "metadata": {},
   "outputs": [],
   "source": []
  },
  {
   "cell_type": "code",
   "execution_count": null,
   "metadata": {},
   "outputs": [],
   "source": []
  },
  {
   "cell_type": "code",
   "execution_count": null,
   "metadata": {},
   "outputs": [],
   "source": []
  },
  {
   "cell_type": "code",
   "execution_count": null,
   "metadata": {},
   "outputs": [],
   "source": []
  },
  {
   "cell_type": "code",
   "execution_count": null,
   "metadata": {},
   "outputs": [],
   "source": []
  },
  {
   "cell_type": "markdown",
   "metadata": {},
   "source": [
    "### Talk about some of the relationships you observed in this part of the investigation. How did the feature(s) of interest vary with other features in the dataset?\n",
    "\n",
    "> Your answer here!\n",
    "\n",
    "### Did you observe any interesting relationships between the other features (not the main feature(s) of interest)?\n",
    "\n",
    "> Your answer here!"
   ]
  },
  {
   "cell_type": "markdown",
   "metadata": {},
   "source": [
    "## Multivariate Exploration\n",
    "\n",
    "> Create plots of three or more variables to investigate your data even\n",
    "further. Make sure that your investigations are justified, and follow from\n",
    "your work in the previous sections."
   ]
  },
  {
   "cell_type": "code",
   "execution_count": null,
   "metadata": {},
   "outputs": [],
   "source": []
  },
  {
   "cell_type": "markdown",
   "metadata": {},
   "source": [
    "### Talk about some of the relationships you observed in this part of the investigation. Were there features that strengthened each other in terms of looking at your feature(s) of interest?\n",
    "\n",
    "> Your answer here!\n",
    "\n",
    "### Were there any interesting or surprising interactions between features?\n",
    "\n",
    "> Your answer here!"
   ]
  },
  {
   "cell_type": "markdown",
   "metadata": {},
   "source": [
    "## Conclusions\n",
    ">You can write a summary of the main findings and reflect on the steps taken during the data exploration.\n"
   ]
  },
  {
   "cell_type": "markdown",
   "metadata": {},
   "source": [
    "\n",
    "> Remove all Tips mentioned above, before you convert this notebook to PDF/HTML\n",
    "\n",
    "\n",
    "> At the end of your report, make sure that you export the notebook as an\n",
    "html file from the `File > Download as... > HTML or PDF` menu. Make sure you keep\n",
    "track of where the exported file goes, so you can put it in the same folder\n",
    "as this notebook for project submission. Also, make sure you remove all of\n",
    "the quote-formatted guide notes like this one before you finish your report!\n",
    "\n"
   ]
  },
  {
   "cell_type": "code",
   "execution_count": null,
   "metadata": {},
   "outputs": [],
   "source": []
  },
  {
   "cell_type": "code",
   "execution_count": null,
   "metadata": {},
   "outputs": [],
   "source": []
  }
 ],
 "metadata": {
  "kernelspec": {
   "display_name": "Python 3.10.6 64-bit",
   "language": "python",
   "name": "python3"
  },
  "language_info": {
   "codemirror_mode": {
    "name": "ipython",
    "version": 3
   },
   "file_extension": ".py",
   "mimetype": "text/x-python",
   "name": "python",
   "nbconvert_exporter": "python",
   "pygments_lexer": "ipython3",
   "version": "3.10.6"
  },
  "vscode": {
   "interpreter": {
    "hash": "a9cff5a362bc38ef45d817ae74b1af54d6a076e3d773891282bce078b815ba34"
   }
  }
 },
 "nbformat": 4,
 "nbformat_minor": 2
}
